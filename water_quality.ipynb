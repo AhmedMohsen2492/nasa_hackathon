{
  "cells": [
    {
      "cell_type": "code",
      "execution_count": 139,
      "metadata": {},
      "outputs": [],
      "source": [
        "import numpy as np"
      ]
    },
    {
      "cell_type": "code",
      "execution_count": 62,
      "metadata": {
        "colab": {
          "base_uri": "https://localhost:8080/"
        },
        "id": "USo7rTseMBSP",
        "outputId": "29dd8166-63b7-4482-8e5c-7ae0d583f590"
      },
      "outputs": [
        {
          "name": "stderr",
          "output_type": "stream",
          "text": [
            "C:\\Users\\Hazem\\AppData\\Local\\Temp\\ipykernel_5872\\3693543500.py:2: DtypeWarning: Columns (18,19,21) have mixed types. Specify dtype option on import or set low_memory=False.\n",
            "  data=pd.read_csv(\"Water_Quality.csv\")\n"
          ]
        }
      ],
      "source": [
        "import pandas as pd\n",
        "data=pd.read_csv(\"Water_Quality.csv\")"
      ]
    },
    {
      "cell_type": "code",
      "execution_count": 63,
      "metadata": {
        "colab": {
          "base_uri": "https://localhost:8080/"
        },
        "id": "yWnjJ5ATMnnn",
        "outputId": "80c92198-b57d-48dd-e91e-b4f7e6327ee5"
      },
      "outputs": [
        {
          "data": {
            "text/plain": [
              "10513"
            ]
          },
          "execution_count": 63,
          "metadata": {},
          "output_type": "execute_result"
        }
      ],
      "source": [
        "data['Value'].nunique()"
      ]
    },
    {
      "cell_type": "code",
      "execution_count": 64,
      "metadata": {},
      "outputs": [
        {
          "data": {
            "text/html": [
              "<div>\n",
              "<style scoped>\n",
              "    .dataframe tbody tr th:only-of-type {\n",
              "        vertical-align: middle;\n",
              "    }\n",
              "\n",
              "    .dataframe tbody tr th {\n",
              "        vertical-align: top;\n",
              "    }\n",
              "\n",
              "    .dataframe thead th {\n",
              "        text-align: right;\n",
              "    }\n",
              "</style>\n",
              "<table border=\"1\" class=\"dataframe\">\n",
              "  <thead>\n",
              "    <tr style=\"text-align: right;\">\n",
              "      <th></th>\n",
              "      <th>Sample ID</th>\n",
              "      <th>Grab ID</th>\n",
              "      <th>Profile ID</th>\n",
              "      <th>Sample Number</th>\n",
              "      <th>Collect DateTime</th>\n",
              "      <th>Depth (m)</th>\n",
              "      <th>Site Type</th>\n",
              "      <th>Area</th>\n",
              "      <th>Locator</th>\n",
              "      <th>Site</th>\n",
              "      <th>...</th>\n",
              "      <th>MDL</th>\n",
              "      <th>RDL</th>\n",
              "      <th>Text Value</th>\n",
              "      <th>Sample Info</th>\n",
              "      <th>Steward Note</th>\n",
              "      <th>Replicates</th>\n",
              "      <th>Replicate Of</th>\n",
              "      <th>Method</th>\n",
              "      <th>Date Analyzed</th>\n",
              "      <th>Data Source</th>\n",
              "    </tr>\n",
              "  </thead>\n",
              "  <tbody>\n",
              "    <tr>\n",
              "      <th>0</th>\n",
              "      <td>2244</td>\n",
              "      <td>2244.0</td>\n",
              "      <td>22</td>\n",
              "      <td>L63668-18</td>\n",
              "      <td>09/21/2015 10:29:00 AM</td>\n",
              "      <td>54.2</td>\n",
              "      <td>Marine Offshore</td>\n",
              "      <td>Central Puget Sound</td>\n",
              "      <td>JSUR01</td>\n",
              "      <td>Point Wells</td>\n",
              "      <td>...</td>\n",
              "      <td>NaN</td>\n",
              "      <td>NaN</td>\n",
              "      <td>NaN</td>\n",
              "      <td>NaN</td>\n",
              "      <td>NaN</td>\n",
              "      <td>NaN</td>\n",
              "      <td>NaN</td>\n",
              "      <td>CTD</td>\n",
              "      <td>09/21/2015</td>\n",
              "      <td>KCEL</td>\n",
              "    </tr>\n",
              "    <tr>\n",
              "      <th>1</th>\n",
              "      <td>2531</td>\n",
              "      <td>2531.0</td>\n",
              "      <td>329</td>\n",
              "      <td>L63001-3</td>\n",
              "      <td>06/17/2015 10:43:00 AM</td>\n",
              "      <td>1.0</td>\n",
              "      <td>Marine Offshore</td>\n",
              "      <td>Central Puget Sound</td>\n",
              "      <td>NSAJ02</td>\n",
              "      <td>Dockton Park</td>\n",
              "      <td>...</td>\n",
              "      <td>0.05</td>\n",
              "      <td>0.10</td>\n",
              "      <td>NaN</td>\n",
              "      <td>NaN</td>\n",
              "      <td>NaN</td>\n",
              "      <td>NaN</td>\n",
              "      <td>NaN</td>\n",
              "      <td>WHITLEDGE 1981</td>\n",
              "      <td>06/18/2015</td>\n",
              "      <td>KCEL</td>\n",
              "    </tr>\n",
              "    <tr>\n",
              "      <th>2</th>\n",
              "      <td>3034</td>\n",
              "      <td>3034.0</td>\n",
              "      <td>818</td>\n",
              "      <td>L65361-20</td>\n",
              "      <td>06/07/2016 10:13:00 AM</td>\n",
              "      <td>178.0</td>\n",
              "      <td>Marine Offshore</td>\n",
              "      <td>Central Puget Sound</td>\n",
              "      <td>LSNT01</td>\n",
              "      <td>Point Williams</td>\n",
              "      <td>...</td>\n",
              "      <td>NaN</td>\n",
              "      <td>NaN</td>\n",
              "      <td>NaN</td>\n",
              "      <td>NaN</td>\n",
              "      <td>NaN</td>\n",
              "      <td>NaN</td>\n",
              "      <td>NaN</td>\n",
              "      <td>CTD</td>\n",
              "      <td>06/07/2016</td>\n",
              "      <td>KCEL</td>\n",
              "    </tr>\n",
              "    <tr>\n",
              "      <th>3</th>\n",
              "      <td>4609</td>\n",
              "      <td>4609.0</td>\n",
              "      <td>1263</td>\n",
              "      <td>L65931-3</td>\n",
              "      <td>08/15/2016 01:22:00 PM</td>\n",
              "      <td>1.5</td>\n",
              "      <td>Marine Offshore</td>\n",
              "      <td>Central Puget Sound</td>\n",
              "      <td>LTUM03</td>\n",
              "      <td>Duwamish River - South Park Bridge</td>\n",
              "      <td>...</td>\n",
              "      <td>2.00</td>\n",
              "      <td>3.00</td>\n",
              "      <td>NaN</td>\n",
              "      <td>NaN</td>\n",
              "      <td>NaN</td>\n",
              "      <td>NaN</td>\n",
              "      <td>NaN</td>\n",
              "      <td>SM2520-B</td>\n",
              "      <td>08/25/2016</td>\n",
              "      <td>KCEL</td>\n",
              "    </tr>\n",
              "    <tr>\n",
              "      <th>4</th>\n",
              "      <td>2747</td>\n",
              "      <td>2747.0</td>\n",
              "      <td>58</td>\n",
              "      <td>L62666-12</td>\n",
              "      <td>05/18/2015 09:22:00 AM</td>\n",
              "      <td>196.0</td>\n",
              "      <td>Marine Offshore</td>\n",
              "      <td>Central Puget Sound</td>\n",
              "      <td>KSBP01</td>\n",
              "      <td>Jefferson Head</td>\n",
              "      <td>...</td>\n",
              "      <td>0.06</td>\n",
              "      <td>0.12</td>\n",
              "      <td>NaN</td>\n",
              "      <td>NaN</td>\n",
              "      <td>NaN</td>\n",
              "      <td>NaN</td>\n",
              "      <td>NaN</td>\n",
              "      <td>CTD</td>\n",
              "      <td>05/18/2015</td>\n",
              "      <td>KCEL</td>\n",
              "    </tr>\n",
              "  </tbody>\n",
              "</table>\n",
              "<p>5 rows × 25 columns</p>\n",
              "</div>"
            ],
            "text/plain": [
              "   Sample ID  Grab ID  Profile ID Sample Number        Collect DateTime  \\\n",
              "0       2244   2244.0          22     L63668-18  09/21/2015 10:29:00 AM   \n",
              "1       2531   2531.0         329      L63001-3  06/17/2015 10:43:00 AM   \n",
              "2       3034   3034.0         818     L65361-20  06/07/2016 10:13:00 AM   \n",
              "3       4609   4609.0        1263      L65931-3  08/15/2016 01:22:00 PM   \n",
              "4       2747   2747.0          58     L62666-12  05/18/2015 09:22:00 AM   \n",
              "\n",
              "   Depth (m)        Site Type                 Area Locator  \\\n",
              "0       54.2  Marine Offshore  Central Puget Sound  JSUR01   \n",
              "1        1.0  Marine Offshore  Central Puget Sound  NSAJ02   \n",
              "2      178.0  Marine Offshore  Central Puget Sound  LSNT01   \n",
              "3        1.5  Marine Offshore  Central Puget Sound  LTUM03   \n",
              "4      196.0  Marine Offshore  Central Puget Sound  KSBP01   \n",
              "\n",
              "                                 Site  ...   MDL   RDL Text Value  \\\n",
              "0                         Point Wells  ...   NaN   NaN        NaN   \n",
              "1                        Dockton Park  ...  0.05  0.10        NaN   \n",
              "2                      Point Williams  ...   NaN   NaN        NaN   \n",
              "3  Duwamish River - South Park Bridge  ...  2.00  3.00        NaN   \n",
              "4                      Jefferson Head  ...  0.06  0.12        NaN   \n",
              "\n",
              "   Sample Info Steward Note  Replicates  Replicate Of          Method  \\\n",
              "0          NaN          NaN         NaN           NaN             CTD   \n",
              "1          NaN          NaN         NaN           NaN  WHITLEDGE 1981   \n",
              "2          NaN          NaN         NaN           NaN             CTD   \n",
              "3          NaN          NaN         NaN           NaN        SM2520-B   \n",
              "4          NaN          NaN         NaN           NaN             CTD   \n",
              "\n",
              "  Date Analyzed Data Source  \n",
              "0    09/21/2015        KCEL  \n",
              "1    06/18/2015        KCEL  \n",
              "2    06/07/2016        KCEL  \n",
              "3    08/25/2016        KCEL  \n",
              "4    05/18/2015        KCEL  \n",
              "\n",
              "[5 rows x 25 columns]"
            ]
          },
          "execution_count": 64,
          "metadata": {},
          "output_type": "execute_result"
        }
      ],
      "source": [
        "data.head()"
      ]
    },
    {
      "cell_type": "code",
      "execution_count": 65,
      "metadata": {},
      "outputs": [
        {
          "data": {
            "text/html": [
              "<div>\n",
              "<style scoped>\n",
              "    .dataframe tbody tr th:only-of-type {\n",
              "        vertical-align: middle;\n",
              "    }\n",
              "\n",
              "    .dataframe tbody tr th {\n",
              "        vertical-align: top;\n",
              "    }\n",
              "\n",
              "    .dataframe thead th {\n",
              "        text-align: right;\n",
              "    }\n",
              "</style>\n",
              "<table border=\"1\" class=\"dataframe\">\n",
              "  <thead>\n",
              "    <tr style=\"text-align: right;\">\n",
              "      <th></th>\n",
              "      <th>Sample ID</th>\n",
              "      <th>Grab ID</th>\n",
              "      <th>Profile ID</th>\n",
              "      <th>Depth (m)</th>\n",
              "      <th>Value</th>\n",
              "      <th>QualityId</th>\n",
              "      <th>MDL</th>\n",
              "      <th>RDL</th>\n",
              "      <th>Replicates</th>\n",
              "    </tr>\n",
              "  </thead>\n",
              "  <tbody>\n",
              "    <tr>\n",
              "      <th>count</th>\n",
              "      <td>1.774389e+06</td>\n",
              "      <td>1.340507e+06</td>\n",
              "      <td>1.774389e+06</td>\n",
              "      <td>1.340507e+06</td>\n",
              "      <td>1.619832e+06</td>\n",
              "      <td>1.774389e+06</td>\n",
              "      <td>949473.000000</td>\n",
              "      <td>936970.000000</td>\n",
              "      <td>3362.000000</td>\n",
              "    </tr>\n",
              "    <tr>\n",
              "      <th>mean</th>\n",
              "      <td>1.048632e+05</td>\n",
              "      <td>1.121746e+05</td>\n",
              "      <td>4.925055e+04</td>\n",
              "      <td>1.756564e+01</td>\n",
              "      <td>1.390960e+02</td>\n",
              "      <td>1.651213e+00</td>\n",
              "      <td>0.329816</td>\n",
              "      <td>1.814173</td>\n",
              "      <td>156171.831053</td>\n",
              "    </tr>\n",
              "    <tr>\n",
              "      <th>std</th>\n",
              "      <td>6.725576e+04</td>\n",
              "      <td>6.374608e+04</td>\n",
              "      <td>2.340864e+04</td>\n",
              "      <td>2.972562e+01</td>\n",
              "      <td>5.231634e+03</td>\n",
              "      <td>6.863455e-01</td>\n",
              "      <td>0.542861</td>\n",
              "      <td>3.291928</td>\n",
              "      <td>64218.785823</td>\n",
              "    </tr>\n",
              "    <tr>\n",
              "      <th>min</th>\n",
              "      <td>5.240000e+02</td>\n",
              "      <td>5.210000e+02</td>\n",
              "      <td>1.000000e+00</td>\n",
              "      <td>0.000000e+00</td>\n",
              "      <td>-1.700000e+00</td>\n",
              "      <td>0.000000e+00</td>\n",
              "      <td>0.000000</td>\n",
              "      <td>0.000000</td>\n",
              "      <td>1953.000000</td>\n",
              "    </tr>\n",
              "    <tr>\n",
              "      <th>25%</th>\n",
              "      <td>3.817900e+04</td>\n",
              "      <td>6.093500e+04</td>\n",
              "      <td>3.989900e+04</td>\n",
              "      <td>1.000000e+00</td>\n",
              "      <td>7.860000e-01</td>\n",
              "      <td>1.000000e+00</td>\n",
              "      <td>0.010000</td>\n",
              "      <td>0.040000</td>\n",
              "      <td>123502.000000</td>\n",
              "    </tr>\n",
              "    <tr>\n",
              "      <th>50%</th>\n",
              "      <td>1.023460e+05</td>\n",
              "      <td>1.134620e+05</td>\n",
              "      <td>4.618900e+04</td>\n",
              "      <td>9.000000e+00</td>\n",
              "      <td>7.500000e+00</td>\n",
              "      <td>2.000000e+00</td>\n",
              "      <td>0.200000</td>\n",
              "      <td>0.500000</td>\n",
              "      <td>188900.000000</td>\n",
              "    </tr>\n",
              "    <tr>\n",
              "      <th>75%</th>\n",
              "      <td>1.684710e+05</td>\n",
              "      <td>1.718910e+05</td>\n",
              "      <td>6.971400e+04</td>\n",
              "      <td>2.010000e+01</td>\n",
              "      <td>2.860000e+01</td>\n",
              "      <td>2.000000e+00</td>\n",
              "      <td>0.500000</td>\n",
              "      <td>1.000000</td>\n",
              "      <td>207222.000000</td>\n",
              "    </tr>\n",
              "    <tr>\n",
              "      <th>max</th>\n",
              "      <td>2.176110e+05</td>\n",
              "      <td>2.175050e+05</td>\n",
              "      <td>8.663300e+04</td>\n",
              "      <td>2.010000e+02</td>\n",
              "      <td>1.000000e+06</td>\n",
              "      <td>9.000000e+00</td>\n",
              "      <td>100.000000</td>\n",
              "      <td>100.000000</td>\n",
              "      <td>217417.000000</td>\n",
              "    </tr>\n",
              "  </tbody>\n",
              "</table>\n",
              "</div>"
            ],
            "text/plain": [
              "          Sample ID       Grab ID    Profile ID     Depth (m)         Value  \\\n",
              "count  1.774389e+06  1.340507e+06  1.774389e+06  1.340507e+06  1.619832e+06   \n",
              "mean   1.048632e+05  1.121746e+05  4.925055e+04  1.756564e+01  1.390960e+02   \n",
              "std    6.725576e+04  6.374608e+04  2.340864e+04  2.972562e+01  5.231634e+03   \n",
              "min    5.240000e+02  5.210000e+02  1.000000e+00  0.000000e+00 -1.700000e+00   \n",
              "25%    3.817900e+04  6.093500e+04  3.989900e+04  1.000000e+00  7.860000e-01   \n",
              "50%    1.023460e+05  1.134620e+05  4.618900e+04  9.000000e+00  7.500000e+00   \n",
              "75%    1.684710e+05  1.718910e+05  6.971400e+04  2.010000e+01  2.860000e+01   \n",
              "max    2.176110e+05  2.175050e+05  8.663300e+04  2.010000e+02  1.000000e+06   \n",
              "\n",
              "          QualityId            MDL            RDL     Replicates  \n",
              "count  1.774389e+06  949473.000000  936970.000000    3362.000000  \n",
              "mean   1.651213e+00       0.329816       1.814173  156171.831053  \n",
              "std    6.863455e-01       0.542861       3.291928   64218.785823  \n",
              "min    0.000000e+00       0.000000       0.000000    1953.000000  \n",
              "25%    1.000000e+00       0.010000       0.040000  123502.000000  \n",
              "50%    2.000000e+00       0.200000       0.500000  188900.000000  \n",
              "75%    2.000000e+00       0.500000       1.000000  207222.000000  \n",
              "max    9.000000e+00     100.000000     100.000000  217417.000000  "
            ]
          },
          "execution_count": 65,
          "metadata": {},
          "output_type": "execute_result"
        }
      ],
      "source": [
        "data.describe()"
      ]
    },
    {
      "cell_type": "code",
      "execution_count": 66,
      "metadata": {
        "colab": {
          "base_uri": "https://localhost:8080/",
          "height": 912
        },
        "id": "R6EfqlK-MxWG",
        "outputId": "284412e2-c662-4aa1-f9a4-10f0afa0db03"
      },
      "outputs": [
        {
          "data": {
            "text/html": [
              "<div>\n",
              "<style scoped>\n",
              "    .dataframe tbody tr th:only-of-type {\n",
              "        vertical-align: middle;\n",
              "    }\n",
              "\n",
              "    .dataframe tbody tr th {\n",
              "        vertical-align: top;\n",
              "    }\n",
              "\n",
              "    .dataframe thead th {\n",
              "        text-align: right;\n",
              "    }\n",
              "</style>\n",
              "<table border=\"1\" class=\"dataframe\">\n",
              "  <thead>\n",
              "    <tr style=\"text-align: right;\">\n",
              "      <th></th>\n",
              "      <th>Sample ID</th>\n",
              "      <th>Grab ID</th>\n",
              "      <th>Profile ID</th>\n",
              "      <th>Sample Number</th>\n",
              "      <th>Collect DateTime</th>\n",
              "      <th>Depth (m)</th>\n",
              "      <th>Site Type</th>\n",
              "      <th>Area</th>\n",
              "      <th>Locator</th>\n",
              "      <th>Site</th>\n",
              "      <th>...</th>\n",
              "      <th>MDL</th>\n",
              "      <th>RDL</th>\n",
              "      <th>Text Value</th>\n",
              "      <th>Sample Info</th>\n",
              "      <th>Steward Note</th>\n",
              "      <th>Replicates</th>\n",
              "      <th>Replicate Of</th>\n",
              "      <th>Method</th>\n",
              "      <th>Date Analyzed</th>\n",
              "      <th>Data Source</th>\n",
              "    </tr>\n",
              "  </thead>\n",
              "  <tbody>\n",
              "    <tr>\n",
              "      <th>0</th>\n",
              "      <td>2244</td>\n",
              "      <td>2244.0</td>\n",
              "      <td>22</td>\n",
              "      <td>L63668-18</td>\n",
              "      <td>09/21/2015 10:29:00 AM</td>\n",
              "      <td>54.2</td>\n",
              "      <td>Marine Offshore</td>\n",
              "      <td>Central Puget Sound</td>\n",
              "      <td>JSUR01</td>\n",
              "      <td>Point Wells</td>\n",
              "      <td>...</td>\n",
              "      <td>NaN</td>\n",
              "      <td>NaN</td>\n",
              "      <td>NaN</td>\n",
              "      <td>NaN</td>\n",
              "      <td>NaN</td>\n",
              "      <td>NaN</td>\n",
              "      <td>NaN</td>\n",
              "      <td>CTD</td>\n",
              "      <td>09/21/2015</td>\n",
              "      <td>KCEL</td>\n",
              "    </tr>\n",
              "    <tr>\n",
              "      <th>1</th>\n",
              "      <td>2531</td>\n",
              "      <td>2531.0</td>\n",
              "      <td>329</td>\n",
              "      <td>L63001-3</td>\n",
              "      <td>06/17/2015 10:43:00 AM</td>\n",
              "      <td>1.0</td>\n",
              "      <td>Marine Offshore</td>\n",
              "      <td>Central Puget Sound</td>\n",
              "      <td>NSAJ02</td>\n",
              "      <td>Dockton Park</td>\n",
              "      <td>...</td>\n",
              "      <td>0.0500</td>\n",
              "      <td>0.100</td>\n",
              "      <td>NaN</td>\n",
              "      <td>NaN</td>\n",
              "      <td>NaN</td>\n",
              "      <td>NaN</td>\n",
              "      <td>NaN</td>\n",
              "      <td>WHITLEDGE 1981</td>\n",
              "      <td>06/18/2015</td>\n",
              "      <td>KCEL</td>\n",
              "    </tr>\n",
              "    <tr>\n",
              "      <th>2</th>\n",
              "      <td>3034</td>\n",
              "      <td>3034.0</td>\n",
              "      <td>818</td>\n",
              "      <td>L65361-20</td>\n",
              "      <td>06/07/2016 10:13:00 AM</td>\n",
              "      <td>178.0</td>\n",
              "      <td>Marine Offshore</td>\n",
              "      <td>Central Puget Sound</td>\n",
              "      <td>LSNT01</td>\n",
              "      <td>Point Williams</td>\n",
              "      <td>...</td>\n",
              "      <td>NaN</td>\n",
              "      <td>NaN</td>\n",
              "      <td>NaN</td>\n",
              "      <td>NaN</td>\n",
              "      <td>NaN</td>\n",
              "      <td>NaN</td>\n",
              "      <td>NaN</td>\n",
              "      <td>CTD</td>\n",
              "      <td>06/07/2016</td>\n",
              "      <td>KCEL</td>\n",
              "    </tr>\n",
              "    <tr>\n",
              "      <th>3</th>\n",
              "      <td>4609</td>\n",
              "      <td>4609.0</td>\n",
              "      <td>1263</td>\n",
              "      <td>L65931-3</td>\n",
              "      <td>08/15/2016 01:22:00 PM</td>\n",
              "      <td>1.5</td>\n",
              "      <td>Marine Offshore</td>\n",
              "      <td>Central Puget Sound</td>\n",
              "      <td>LTUM03</td>\n",
              "      <td>Duwamish River - South Park Bridge</td>\n",
              "      <td>...</td>\n",
              "      <td>2.0000</td>\n",
              "      <td>3.000</td>\n",
              "      <td>NaN</td>\n",
              "      <td>NaN</td>\n",
              "      <td>NaN</td>\n",
              "      <td>NaN</td>\n",
              "      <td>NaN</td>\n",
              "      <td>SM2520-B</td>\n",
              "      <td>08/25/2016</td>\n",
              "      <td>KCEL</td>\n",
              "    </tr>\n",
              "    <tr>\n",
              "      <th>4</th>\n",
              "      <td>2747</td>\n",
              "      <td>2747.0</td>\n",
              "      <td>58</td>\n",
              "      <td>L62666-12</td>\n",
              "      <td>05/18/2015 09:22:00 AM</td>\n",
              "      <td>196.0</td>\n",
              "      <td>Marine Offshore</td>\n",
              "      <td>Central Puget Sound</td>\n",
              "      <td>KSBP01</td>\n",
              "      <td>Jefferson Head</td>\n",
              "      <td>...</td>\n",
              "      <td>0.0600</td>\n",
              "      <td>0.120</td>\n",
              "      <td>NaN</td>\n",
              "      <td>NaN</td>\n",
              "      <td>NaN</td>\n",
              "      <td>NaN</td>\n",
              "      <td>NaN</td>\n",
              "      <td>CTD</td>\n",
              "      <td>05/18/2015</td>\n",
              "      <td>KCEL</td>\n",
              "    </tr>\n",
              "    <tr>\n",
              "      <th>...</th>\n",
              "      <td>...</td>\n",
              "      <td>...</td>\n",
              "      <td>...</td>\n",
              "      <td>...</td>\n",
              "      <td>...</td>\n",
              "      <td>...</td>\n",
              "      <td>...</td>\n",
              "      <td>...</td>\n",
              "      <td>...</td>\n",
              "      <td>...</td>\n",
              "      <td>...</td>\n",
              "      <td>...</td>\n",
              "      <td>...</td>\n",
              "      <td>...</td>\n",
              "      <td>...</td>\n",
              "      <td>...</td>\n",
              "      <td>...</td>\n",
              "      <td>...</td>\n",
              "      <td>...</td>\n",
              "      <td>...</td>\n",
              "      <td>...</td>\n",
              "    </tr>\n",
              "    <tr>\n",
              "      <th>1774384</th>\n",
              "      <td>217586</td>\n",
              "      <td>NaN</td>\n",
              "      <td>86564</td>\n",
              "      <td>L82063-12</td>\n",
              "      <td>08/15/2023 08:23:00 AM</td>\n",
              "      <td>NaN</td>\n",
              "      <td>Freshwater - Uncategorized</td>\n",
              "      <td>NaN</td>\n",
              "      <td>FFBLANK</td>\n",
              "      <td>METRO</td>\n",
              "      <td>...</td>\n",
              "      <td>0.0005</td>\n",
              "      <td>0.002</td>\n",
              "      <td>NaN</td>\n",
              "      <td>NaN</td>\n",
              "      <td>NaN</td>\n",
              "      <td>NaN</td>\n",
              "      <td>NaN</td>\n",
              "      <td>SM4500-P-F</td>\n",
              "      <td>08/17/2023</td>\n",
              "      <td>KCEL</td>\n",
              "    </tr>\n",
              "    <tr>\n",
              "      <th>1774385</th>\n",
              "      <td>217557</td>\n",
              "      <td>NaN</td>\n",
              "      <td>86598</td>\n",
              "      <td>L82063-8</td>\n",
              "      <td>08/15/2023 08:52:00 AM</td>\n",
              "      <td>NaN</td>\n",
              "      <td>Streams and Rivers</td>\n",
              "      <td>Issaquah</td>\n",
              "      <td>0632</td>\n",
              "      <td>Issaquah North Fork at mouth</td>\n",
              "      <td>...</td>\n",
              "      <td>0.5000</td>\n",
              "      <td>10.000</td>\n",
              "      <td>NaN</td>\n",
              "      <td>NaN</td>\n",
              "      <td>NaN</td>\n",
              "      <td>NaN</td>\n",
              "      <td>NaN</td>\n",
              "      <td>KCEL SOP# 245</td>\n",
              "      <td>08/15/2023</td>\n",
              "      <td>KCEL</td>\n",
              "    </tr>\n",
              "    <tr>\n",
              "      <th>1774386</th>\n",
              "      <td>217519</td>\n",
              "      <td>NaN</td>\n",
              "      <td>86583</td>\n",
              "      <td>L82172-6</td>\n",
              "      <td>08/16/2023 11:16:00 AM</td>\n",
              "      <td>NaN</td>\n",
              "      <td>Streams and Rivers</td>\n",
              "      <td>Juanita</td>\n",
              "      <td>0446</td>\n",
              "      <td>Juanita Creek mouth at NE Juanita Dr</td>\n",
              "      <td>...</td>\n",
              "      <td>0.0020</td>\n",
              "      <td>0.010</td>\n",
              "      <td>NaN</td>\n",
              "      <td>NaN</td>\n",
              "      <td>NaN</td>\n",
              "      <td>NaN</td>\n",
              "      <td>NaN</td>\n",
              "      <td>KEROUEL &amp; AMINOT 1997</td>\n",
              "      <td>08/18/2023</td>\n",
              "      <td>KCEL</td>\n",
              "    </tr>\n",
              "    <tr>\n",
              "      <th>1774387</th>\n",
              "      <td>217564</td>\n",
              "      <td>NaN</td>\n",
              "      <td>86588</td>\n",
              "      <td>L82062-1</td>\n",
              "      <td>08/15/2023 08:25:00 AM</td>\n",
              "      <td>NaN</td>\n",
              "      <td>Streams and Rivers</td>\n",
              "      <td>Little Bear</td>\n",
              "      <td>S478</td>\n",
              "      <td>Little Bear Creek at Little Bear Creek Rd</td>\n",
              "      <td>...</td>\n",
              "      <td>0.5000</td>\n",
              "      <td>2.000</td>\n",
              "      <td>NaN</td>\n",
              "      <td>NaN</td>\n",
              "      <td>NaN</td>\n",
              "      <td>NaN</td>\n",
              "      <td>NaN</td>\n",
              "      <td>SM2540-D</td>\n",
              "      <td>08/18/2023</td>\n",
              "      <td>KCEL</td>\n",
              "    </tr>\n",
              "    <tr>\n",
              "      <th>1774388</th>\n",
              "      <td>217582</td>\n",
              "      <td>NaN</td>\n",
              "      <td>86552</td>\n",
              "      <td>L82174-7</td>\n",
              "      <td>08/21/2023 12:21:00 PM</td>\n",
              "      <td>NaN</td>\n",
              "      <td>Streams and Rivers</td>\n",
              "      <td>Tolt River</td>\n",
              "      <td>TOLT_MTH</td>\n",
              "      <td>Tolt River mouth</td>\n",
              "      <td>...</td>\n",
              "      <td>0.0500</td>\n",
              "      <td>0.200</td>\n",
              "      <td>NaN</td>\n",
              "      <td>NaN</td>\n",
              "      <td>NaN</td>\n",
              "      <td>NaN</td>\n",
              "      <td>NaN</td>\n",
              "      <td>SM4500-N-C</td>\n",
              "      <td>08/28/2023</td>\n",
              "      <td>KCEL</td>\n",
              "    </tr>\n",
              "  </tbody>\n",
              "</table>\n",
              "<p>1774389 rows × 25 columns</p>\n",
              "</div>"
            ],
            "text/plain": [
              "         Sample ID  Grab ID  Profile ID Sample Number        Collect DateTime  \\\n",
              "0             2244   2244.0          22     L63668-18  09/21/2015 10:29:00 AM   \n",
              "1             2531   2531.0         329      L63001-3  06/17/2015 10:43:00 AM   \n",
              "2             3034   3034.0         818     L65361-20  06/07/2016 10:13:00 AM   \n",
              "3             4609   4609.0        1263      L65931-3  08/15/2016 01:22:00 PM   \n",
              "4             2747   2747.0          58     L62666-12  05/18/2015 09:22:00 AM   \n",
              "...            ...      ...         ...           ...                     ...   \n",
              "1774384     217586      NaN       86564     L82063-12  08/15/2023 08:23:00 AM   \n",
              "1774385     217557      NaN       86598      L82063-8  08/15/2023 08:52:00 AM   \n",
              "1774386     217519      NaN       86583      L82172-6  08/16/2023 11:16:00 AM   \n",
              "1774387     217564      NaN       86588      L82062-1  08/15/2023 08:25:00 AM   \n",
              "1774388     217582      NaN       86552      L82174-7  08/21/2023 12:21:00 PM   \n",
              "\n",
              "         Depth (m)                   Site Type                 Area   Locator  \\\n",
              "0             54.2             Marine Offshore  Central Puget Sound    JSUR01   \n",
              "1              1.0             Marine Offshore  Central Puget Sound    NSAJ02   \n",
              "2            178.0             Marine Offshore  Central Puget Sound    LSNT01   \n",
              "3              1.5             Marine Offshore  Central Puget Sound    LTUM03   \n",
              "4            196.0             Marine Offshore  Central Puget Sound    KSBP01   \n",
              "...            ...                         ...                  ...       ...   \n",
              "1774384        NaN  Freshwater - Uncategorized                  NaN   FFBLANK   \n",
              "1774385        NaN          Streams and Rivers             Issaquah      0632   \n",
              "1774386        NaN          Streams and Rivers              Juanita      0446   \n",
              "1774387        NaN          Streams and Rivers          Little Bear      S478   \n",
              "1774388        NaN          Streams and Rivers           Tolt River  TOLT_MTH   \n",
              "\n",
              "                                              Site  ...     MDL     RDL  \\\n",
              "0                                      Point Wells  ...     NaN     NaN   \n",
              "1                                     Dockton Park  ...  0.0500   0.100   \n",
              "2                                   Point Williams  ...     NaN     NaN   \n",
              "3               Duwamish River - South Park Bridge  ...  2.0000   3.000   \n",
              "4                                   Jefferson Head  ...  0.0600   0.120   \n",
              "...                                            ...  ...     ...     ...   \n",
              "1774384                                      METRO  ...  0.0005   0.002   \n",
              "1774385               Issaquah North Fork at mouth  ...  0.5000  10.000   \n",
              "1774386       Juanita Creek mouth at NE Juanita Dr  ...  0.0020   0.010   \n",
              "1774387  Little Bear Creek at Little Bear Creek Rd  ...  0.5000   2.000   \n",
              "1774388                           Tolt River mouth  ...  0.0500   0.200   \n",
              "\n",
              "        Text Value  Sample Info Steward Note  Replicates  Replicate Of  \\\n",
              "0              NaN          NaN          NaN         NaN           NaN   \n",
              "1              NaN          NaN          NaN         NaN           NaN   \n",
              "2              NaN          NaN          NaN         NaN           NaN   \n",
              "3              NaN          NaN          NaN         NaN           NaN   \n",
              "4              NaN          NaN          NaN         NaN           NaN   \n",
              "...            ...          ...          ...         ...           ...   \n",
              "1774384        NaN          NaN          NaN         NaN           NaN   \n",
              "1774385        NaN          NaN          NaN         NaN           NaN   \n",
              "1774386        NaN          NaN          NaN         NaN           NaN   \n",
              "1774387        NaN          NaN          NaN         NaN           NaN   \n",
              "1774388        NaN          NaN          NaN         NaN           NaN   \n",
              "\n",
              "                        Method Date Analyzed Data Source  \n",
              "0                          CTD    09/21/2015        KCEL  \n",
              "1               WHITLEDGE 1981    06/18/2015        KCEL  \n",
              "2                          CTD    06/07/2016        KCEL  \n",
              "3                     SM2520-B    08/25/2016        KCEL  \n",
              "4                          CTD    05/18/2015        KCEL  \n",
              "...                        ...           ...         ...  \n",
              "1774384             SM4500-P-F    08/17/2023        KCEL  \n",
              "1774385          KCEL SOP# 245    08/15/2023        KCEL  \n",
              "1774386  KEROUEL & AMINOT 1997    08/18/2023        KCEL  \n",
              "1774387               SM2540-D    08/18/2023        KCEL  \n",
              "1774388             SM4500-N-C    08/28/2023        KCEL  \n",
              "\n",
              "[1774389 rows x 25 columns]"
            ]
          },
          "execution_count": 66,
          "metadata": {},
          "output_type": "execute_result"
        }
      ],
      "source": [
        "data.drop_duplicates()"
      ]
    },
    {
      "cell_type": "code",
      "execution_count": 67,
      "metadata": {
        "id": "LCPkahpPMzka"
      },
      "outputs": [],
      "source": [
        "#almost nulls\n",
        "columns_to_drop = ['Profile ID','Grab ID','Sample ID','Lab Qualifier', 'MDL', 'RDL', 'Text Value','Sample Info','Steward Note','Replicates','Replicate Of','Sample Number','Units','Collect DateTime','Sample Number','Date Analyzed','Depth (m)','Locator','Parameter','QualityId','Method','Data Source','Site']\n",
        "\n",
        "data.drop(columns=columns_to_drop, inplace=True)"
      ]
    },
    {
      "cell_type": "code",
      "execution_count": 68,
      "metadata": {},
      "outputs": [
        {
          "data": {
            "text/html": [
              "<div>\n",
              "<style scoped>\n",
              "    .dataframe tbody tr th:only-of-type {\n",
              "        vertical-align: middle;\n",
              "    }\n",
              "\n",
              "    .dataframe tbody tr th {\n",
              "        vertical-align: top;\n",
              "    }\n",
              "\n",
              "    .dataframe thead th {\n",
              "        text-align: right;\n",
              "    }\n",
              "</style>\n",
              "<table border=\"1\" class=\"dataframe\">\n",
              "  <thead>\n",
              "    <tr style=\"text-align: right;\">\n",
              "      <th></th>\n",
              "      <th>Site Type</th>\n",
              "      <th>Area</th>\n",
              "      <th>Value</th>\n",
              "    </tr>\n",
              "  </thead>\n",
              "  <tbody>\n",
              "    <tr>\n",
              "      <th>0</th>\n",
              "      <td>Marine Offshore</td>\n",
              "      <td>Central Puget Sound</td>\n",
              "      <td>13.000</td>\n",
              "    </tr>\n",
              "    <tr>\n",
              "      <th>1</th>\n",
              "      <td>Marine Offshore</td>\n",
              "      <td>Central Puget Sound</td>\n",
              "      <td>0.951</td>\n",
              "    </tr>\n",
              "    <tr>\n",
              "      <th>2</th>\n",
              "      <td>Marine Offshore</td>\n",
              "      <td>Central Puget Sound</td>\n",
              "      <td>0.000</td>\n",
              "    </tr>\n",
              "    <tr>\n",
              "      <th>3</th>\n",
              "      <td>Marine Offshore</td>\n",
              "      <td>Central Puget Sound</td>\n",
              "      <td>17.900</td>\n",
              "    </tr>\n",
              "    <tr>\n",
              "      <th>4</th>\n",
              "      <td>Marine Offshore</td>\n",
              "      <td>Central Puget Sound</td>\n",
              "      <td>0.750</td>\n",
              "    </tr>\n",
              "  </tbody>\n",
              "</table>\n",
              "</div>"
            ],
            "text/plain": [
              "         Site Type                 Area   Value\n",
              "0  Marine Offshore  Central Puget Sound  13.000\n",
              "1  Marine Offshore  Central Puget Sound   0.951\n",
              "2  Marine Offshore  Central Puget Sound   0.000\n",
              "3  Marine Offshore  Central Puget Sound  17.900\n",
              "4  Marine Offshore  Central Puget Sound   0.750"
            ]
          },
          "execution_count": 68,
          "metadata": {},
          "output_type": "execute_result"
        }
      ],
      "source": [
        "data.head()"
      ]
    },
    {
      "cell_type": "code",
      "execution_count": 69,
      "metadata": {
        "colab": {
          "base_uri": "https://localhost:8080/",
          "height": 206
        },
        "id": "Qjcjy5R6M99e",
        "outputId": "4708c3a3-0771-4360-f462-c8ceaea31876"
      },
      "outputs": [
        {
          "data": {
            "text/html": [
              "<div>\n",
              "<style scoped>\n",
              "    .dataframe tbody tr th:only-of-type {\n",
              "        vertical-align: middle;\n",
              "    }\n",
              "\n",
              "    .dataframe tbody tr th {\n",
              "        vertical-align: top;\n",
              "    }\n",
              "\n",
              "    .dataframe thead th {\n",
              "        text-align: right;\n",
              "    }\n",
              "</style>\n",
              "<table border=\"1\" class=\"dataframe\">\n",
              "  <thead>\n",
              "    <tr style=\"text-align: right;\">\n",
              "      <th></th>\n",
              "      <th>Value</th>\n",
              "      <th>WaterQualityStatus</th>\n",
              "    </tr>\n",
              "  </thead>\n",
              "  <tbody>\n",
              "    <tr>\n",
              "      <th>0</th>\n",
              "      <td>13.000</td>\n",
              "      <td>Excellent</td>\n",
              "    </tr>\n",
              "    <tr>\n",
              "      <th>1</th>\n",
              "      <td>0.951</td>\n",
              "      <td>Excellent</td>\n",
              "    </tr>\n",
              "    <tr>\n",
              "      <th>2</th>\n",
              "      <td>0.000</td>\n",
              "      <td>Excellent</td>\n",
              "    </tr>\n",
              "    <tr>\n",
              "      <th>3</th>\n",
              "      <td>17.900</td>\n",
              "      <td>Excellent</td>\n",
              "    </tr>\n",
              "    <tr>\n",
              "      <th>4</th>\n",
              "      <td>0.750</td>\n",
              "      <td>Excellent</td>\n",
              "    </tr>\n",
              "  </tbody>\n",
              "</table>\n",
              "</div>"
            ],
            "text/plain": [
              "    Value WaterQualityStatus\n",
              "0  13.000          Excellent\n",
              "1   0.951          Excellent\n",
              "2   0.000          Excellent\n",
              "3  17.900          Excellent\n",
              "4   0.750          Excellent"
            ]
          },
          "execution_count": 69,
          "metadata": {},
          "output_type": "execute_result"
        }
      ],
      "source": [
        "def categorize_water_quality(value):\n",
        "    if value < 50:\n",
        "        return \"Excellent\"\n",
        "    elif 50 <= value < 100:\n",
        "        return \"Good Water\"\n",
        "    elif 100 <= value < 200:\n",
        "        return \"Poor Water\"\n",
        "    else:\n",
        "        return \"Very Poor Water\"\n",
        "\n",
        "data['WaterQualityStatus'] = data['Value'].apply(categorize_water_quality)\n",
        "\n",
        "data[['Value', 'WaterQualityStatus']].head()"
      ]
    },
    {
      "cell_type": "code",
      "execution_count": 70,
      "metadata": {
        "colab": {
          "base_uri": "https://localhost:8080/"
        },
        "id": "bostM4zaNH9F",
        "outputId": "827595f1-fa70-41bc-fda3-42092dc34c07"
      },
      "outputs": [
        {
          "data": {
            "text/plain": [
              "array(['Excellent', 'Very Poor Water', 'Good Water', 'Poor Water'],\n",
              "      dtype=object)"
            ]
          },
          "execution_count": 70,
          "metadata": {},
          "output_type": "execute_result"
        }
      ],
      "source": [
        "data[\"WaterQualityStatus\"].unique()\n"
      ]
    },
    {
      "cell_type": "code",
      "execution_count": 71,
      "metadata": {
        "colab": {
          "base_uri": "https://localhost:8080/"
        },
        "id": "MVoLzgTvNSEi",
        "outputId": "80a95c3a-7404-4ea2-df55-ed82498c3068"
      },
      "outputs": [
        {
          "data": {
            "text/plain": [
              "array(['Marine Offshore', 'Marine Intertidal', 'Streams and Rivers',\n",
              "       'Large Lakes', 'Freshwater - Uncategorized', 'Swimming Beaches'],\n",
              "      dtype=object)"
            ]
          },
          "execution_count": 71,
          "metadata": {},
          "output_type": "execute_result"
        }
      ],
      "source": [
        "data['Site Type'].unique()\n"
      ]
    },
    {
      "cell_type": "code",
      "execution_count": 72,
      "metadata": {
        "colab": {
          "base_uri": "https://localhost:8080/"
        },
        "id": "88ufQwYnNXIw",
        "outputId": "3392d7e0-2119-46e4-d375-0916807f920d"
      },
      "outputs": [
        {
          "name": "stdout",
          "output_type": "stream",
          "text": [
            "    Value WaterQualityStatus        Site Type      IsDrinkable_status  \\\n",
            "0  13.000          Excellent  Marine Offshore  The water is drinkable   \n",
            "1   0.951          Excellent  Marine Offshore  The water is drinkable   \n",
            "2   0.000          Excellent  Marine Offshore  The water is drinkable   \n",
            "3  17.900          Excellent  Marine Offshore  The water is drinkable   \n",
            "4   0.750          Excellent  Marine Offshore  The water is drinkable   \n",
            "\n",
            "               IsSwimmable_status  \n",
            "0  You can not swim in this water  \n",
            "1  You can not swim in this water  \n",
            "2  You can not swim in this water  \n",
            "3  You can not swim in this water  \n",
            "4  You can not swim in this water  \n"
          ]
        }
      ],
      "source": [
        "def is_drinkable_combined(row):\n",
        "    val = row['WaterQualityStatus'] in [\"Excellent\", \"Good Water\"] and row['Site Type'] in [\"Marine Offshore\",\"Streams and Rivers\",\"Large Lakes\"]\n",
        "    if val == True:\n",
        "         return \"The water is drinkable\"\n",
        "    else:\n",
        "         return \"The water is not drinkable\"\n",
        "\n",
        "\n",
        "def is_swimmable_combined(row):\n",
        "     vall =row['WaterQualityStatus'] in [\"Excellent\", \"Good Water\"] and row['Site Type'] in [\"Swimming Beaches\",\"Marine Intertidal\"]\n",
        "     if vall == True:\n",
        "         return \"You can swim in this water\"\n",
        "     else:\n",
        "         return \"You can not swim in this water\"\n",
        "\n",
        "data['IsDrinkable_status'] = data.apply(is_drinkable_combined, axis=1)\n",
        "data['IsSwimmable_status'] = data.apply(is_swimmable_combined, axis=1)\n",
        "\n",
        "\n",
        "print(data[['Value', 'WaterQualityStatus', 'Site Type', 'IsDrinkable_status', 'IsSwimmable_status']].head())"
      ]
    },
    {
      "cell_type": "code",
      "execution_count": 73,
      "metadata": {
        "id": "qFmWfuTSNtFc"
      },
      "outputs": [],
      "source": [
        "import sklearn"
      ]
    },
    {
      "cell_type": "code",
      "execution_count": 74,
      "metadata": {
        "colab": {
          "base_uri": "https://localhost:8080/"
        },
        "id": "PzYuE3sVNyRl",
        "outputId": "d9a8049b-27ba-46cd-8dbf-e30bc7f75eb2"
      },
      "outputs": [
        {
          "data": {
            "text/plain": [
              "(1774389, 6)"
            ]
          },
          "execution_count": 74,
          "metadata": {},
          "output_type": "execute_result"
        }
      ],
      "source": [
        "data.shape"
      ]
    },
    {
      "cell_type": "code",
      "execution_count": 75,
      "metadata": {
        "id": "dg9p2NjnN2Rr"
      },
      "outputs": [
        {
          "data": {
            "text/plain": [
              "\"X = data.drop(columns=['IsDrinkable_status','IsSwimmable_status','Site Type','WaterQualityStatus'])\\nY = data[['IsDrinkable_status','IsSwimmable_status','Site Type','WaterQualityStatus']]\""
            ]
          },
          "execution_count": 75,
          "metadata": {},
          "output_type": "execute_result"
        }
      ],
      "source": [
        "\"\"\"X = data.drop(columns=['IsDrinkable_status','IsSwimmable_status','Site Type','WaterQualityStatus'])\n",
        "Y = data[['IsDrinkable_status','IsSwimmable_status','Site Type','WaterQualityStatus']]\"\"\""
      ]
    },
    {
      "cell_type": "code",
      "execution_count": 159,
      "metadata": {},
      "outputs": [],
      "source": [
        "X = data['Area']\n",
        "Y = data[['IsDrinkable_status','IsSwimmable_status','WaterQualityStatus','Site Type']]"
      ]
    },
    {
      "cell_type": "code",
      "execution_count": 206,
      "metadata": {
        "colab": {
          "base_uri": "https://localhost:8080/"
        },
        "id": "DBhPNpy9N5TI",
        "outputId": "709ac001-e4a7-462e-8f04-4919bed8449f"
      },
      "outputs": [
        {
          "data": {
            "text/plain": [
              "(100000, 1)"
            ]
          },
          "execution_count": 206,
          "metadata": {},
          "output_type": "execute_result"
        }
      ],
      "source": [
        "X = X.sample(n=100000,replace=True)\n",
        "\n",
        "X.shape"
      ]
    },
    {
      "cell_type": "code",
      "execution_count": 207,
      "metadata": {
        "colab": {
          "base_uri": "https://localhost:8080/"
        },
        "id": "RBmMI2ukN86A",
        "outputId": "c1355f36-8041-468e-f50b-3dbd5917a747"
      },
      "outputs": [
        {
          "data": {
            "text/plain": [
              "(100000, 4)"
            ]
          },
          "execution_count": 207,
          "metadata": {},
          "output_type": "execute_result"
        }
      ],
      "source": [
        "Y = Y.sample(n=100000,replace=True)\n",
        "Y.shape"
      ]
    },
    {
      "cell_type": "code",
      "execution_count": 208,
      "metadata": {},
      "outputs": [],
      "source": [
        "X = pd.DataFrame(X)\n",
        "from sklearn.preprocessing import LabelEncoder\n",
        "\n",
        "le = LabelEncoder()\n",
        "\n",
        "# Check if the dtype of each column is 'object'\n",
        "categorical_columns = [column for column in X.columns if X[column].dtype.name == 'object']\n",
        "\n",
        "for column in categorical_columns:\n",
        "    X[column] = le.fit_transform(X[column])"
      ]
    },
    {
      "cell_type": "code",
      "execution_count": 209,
      "metadata": {},
      "outputs": [
        {
          "data": {
            "text/html": [
              "<div>\n",
              "<style scoped>\n",
              "    .dataframe tbody tr th:only-of-type {\n",
              "        vertical-align: middle;\n",
              "    }\n",
              "\n",
              "    .dataframe tbody tr th {\n",
              "        vertical-align: top;\n",
              "    }\n",
              "\n",
              "    .dataframe thead th {\n",
              "        text-align: right;\n",
              "    }\n",
              "</style>\n",
              "<table border=\"1\" class=\"dataframe\">\n",
              "  <thead>\n",
              "    <tr style=\"text-align: right;\">\n",
              "      <th></th>\n",
              "      <th>Area</th>\n",
              "    </tr>\n",
              "  </thead>\n",
              "  <tbody>\n",
              "    <tr>\n",
              "      <th>752604</th>\n",
              "      <td>30</td>\n",
              "    </tr>\n",
              "    <tr>\n",
              "      <th>1307251</th>\n",
              "      <td>30</td>\n",
              "    </tr>\n",
              "    <tr>\n",
              "      <th>39757</th>\n",
              "      <td>4</td>\n",
              "    </tr>\n",
              "    <tr>\n",
              "      <th>807867</th>\n",
              "      <td>30</td>\n",
              "    </tr>\n",
              "    <tr>\n",
              "      <th>74071</th>\n",
              "      <td>30</td>\n",
              "    </tr>\n",
              "    <tr>\n",
              "      <th>...</th>\n",
              "      <td>...</td>\n",
              "    </tr>\n",
              "    <tr>\n",
              "      <th>446583</th>\n",
              "      <td>4</td>\n",
              "    </tr>\n",
              "    <tr>\n",
              "      <th>574366</th>\n",
              "      <td>30</td>\n",
              "    </tr>\n",
              "    <tr>\n",
              "      <th>1454374</th>\n",
              "      <td>30</td>\n",
              "    </tr>\n",
              "    <tr>\n",
              "      <th>1533151</th>\n",
              "      <td>28</td>\n",
              "    </tr>\n",
              "    <tr>\n",
              "      <th>614667</th>\n",
              "      <td>30</td>\n",
              "    </tr>\n",
              "  </tbody>\n",
              "</table>\n",
              "<p>100000 rows × 1 columns</p>\n",
              "</div>"
            ],
            "text/plain": [
              "         Area\n",
              "752604     30\n",
              "1307251    30\n",
              "39757       4\n",
              "807867     30\n",
              "74071      30\n",
              "...       ...\n",
              "446583      4\n",
              "574366     30\n",
              "1454374    30\n",
              "1533151    28\n",
              "614667     30\n",
              "\n",
              "[100000 rows x 1 columns]"
            ]
          },
          "execution_count": 209,
          "metadata": {},
          "output_type": "execute_result"
        }
      ],
      "source": [
        "X"
      ]
    },
    {
      "cell_type": "code",
      "execution_count": 210,
      "metadata": {
        "id": "A4O0coi9Qz-I"
      },
      "outputs": [],
      "source": [
        "from sklearn.preprocessing import LabelEncoder\n",
        "\n",
        "le = LabelEncoder()\n",
        "categorical_columns = [column for column in Y.columns if Y[column].dtype.name == 'object']\n",
        "for column in categorical_columns:\n",
        "   Y[column] = le.fit_transform(Y[column])"
      ]
    },
    {
      "cell_type": "code",
      "execution_count": 211,
      "metadata": {
        "colab": {
          "base_uri": "https://localhost:8080/",
          "height": 53
        },
        "id": "uDWNq79iR1i0",
        "outputId": "6c059fb3-c294-4db9-ace8-af113c8c93ac"
      },
      "outputs": [
        {
          "data": {
            "text/plain": [
              "\"numerical_columns = [column for column in X.columns if X[column].dtype.name == [['float64','int64']]]\\nfor column in numerical_columns:\\n   X = X.fillna(X.mean())\""
            ]
          },
          "execution_count": 211,
          "metadata": {},
          "output_type": "execute_result"
        }
      ],
      "source": [
        "\"\"\"numerical_columns = [column for column in X.columns if X[column].dtype.name == [['float64','int64']]]\n",
        "for column in numerical_columns:\n",
        "   X = X.fillna(X.mean())\"\"\""
      ]
    },
    {
      "cell_type": "code",
      "execution_count": 212,
      "metadata": {},
      "outputs": [
        {
          "data": {
            "text/plain": [
              "array(['Central Puget Sound', 'Pipers', 'Shinglemill', 'Mill', 'Idylwood',\n",
              "       'Issaquah', 'Little Bear', 'Snoqualmie - Middle Fork',\n",
              "       'Ames Creek', 'Green', 'George Davis', 'Snoqualmie',\n",
              "       'Raging River', 'Mercer Slough', 'Gorsuch', 'Forbes', 'Lewis',\n",
              "       'McAleer', 'Tolt River', 'Lyon', 'Patterson Creek', 'North',\n",
              "       'Ebright', 'Sammamish', 'Venema', 'Crisp', 'Covington', 'Jenkins',\n",
              "       'Harris Creek', 'Ravensdale', 'Griffin Creek', 'Mileta', 'Yarrow',\n",
              "       'Pine Lake', 'Tahlequah', 'Bear', 'Rock', 'Cottage Lake Creek',\n",
              "       'Snoqualmie - North Fork', 'Snoqualmie - South Fork', 'Fisher',\n",
              "       'May', 'Judd', 'Longfellow', 'Skykomish', 'Newaukum',\n",
              "       'Cherry Creek', 'Little Soos', 'Swamp', 'Boise', 'Cedar', 'Coal',\n",
              "       'Evans', 'Springbrook/Black River', 'Thornton', 'Cochran Springs',\n",
              "       'Laughing Jacobs', 'Soos', 'Tibbetts', 'Juanita',\n",
              "       'Lake Washington', 'Lake Sammamish', 'Lake Union/Ship Canal',\n",
              "       'Duwamish', 'Zackuse', 'Fairweather', nan, 'Christensen',\n",
              "       'Whidbey'], dtype=object)"
            ]
          },
          "execution_count": 212,
          "metadata": {},
          "output_type": "execute_result"
        }
      ],
      "source": [
        "data[\"Area\"].unique()"
      ]
    },
    {
      "cell_type": "code",
      "execution_count": 213,
      "metadata": {
        "id": "yNJajgwhYBUy"
      },
      "outputs": [],
      "source": [
        "X = X.fillna(X.mean())"
      ]
    },
    {
      "cell_type": "code",
      "execution_count": 214,
      "metadata": {
        "colab": {
          "base_uri": "https://localhost:8080/"
        },
        "id": "62TWZu73SBAn",
        "outputId": "8499cf29-0945-4256-8fd6-658b7d5e946a"
      },
      "outputs": [
        {
          "name": "stdout",
          "output_type": "stream",
          "text": [
            "<class 'pandas.core.frame.DataFrame'>\n",
            "Int64Index: 100000 entries, 752604 to 614667\n",
            "Data columns (total 1 columns):\n",
            " #   Column  Non-Null Count   Dtype\n",
            "---  ------  --------------   -----\n",
            " 0   Area    100000 non-null  int32\n",
            "dtypes: int32(1)\n",
            "memory usage: 1.1 MB\n"
          ]
        }
      ],
      "source": [
        "X.info()"
      ]
    },
    {
      "cell_type": "code",
      "execution_count": 215,
      "metadata": {
        "colab": {
          "base_uri": "https://localhost:8080/",
          "height": 53
        },
        "id": "J-qz77zsSQt5",
        "outputId": "cb5a3dd1-04ef-4a02-8b02-2311391eb9e4"
      },
      "outputs": [
        {
          "data": {
            "text/plain": [
              "\"numerical_columns = [column for column in Y.columns if Y[column].dtype.name == [['float64','int64']]]\\nfor column in numerical_columns:\\n   Y = Y.fillna(X.mean())\""
            ]
          },
          "execution_count": 215,
          "metadata": {},
          "output_type": "execute_result"
        }
      ],
      "source": [
        "\"\"\"numerical_columns = [column for column in Y.columns if Y[column].dtype.name == [['float64','int64']]]\n",
        "for column in numerical_columns:\n",
        "   Y = Y.fillna(X.mean())\"\"\""
      ]
    },
    {
      "cell_type": "code",
      "execution_count": 216,
      "metadata": {
        "id": "8SGtRCtXYSZ_"
      },
      "outputs": [],
      "source": [
        "Y = Y.fillna(X.mean())"
      ]
    },
    {
      "cell_type": "code",
      "execution_count": 217,
      "metadata": {
        "colab": {
          "base_uri": "https://localhost:8080/"
        },
        "id": "ghsTPP43YUSp",
        "outputId": "9296243e-e380-4713-b1f6-c9b6070c5328"
      },
      "outputs": [
        {
          "data": {
            "text/plain": [
              "IsDrinkable_status    0\n",
              "IsSwimmable_status    0\n",
              "WaterQualityStatus    0\n",
              "Site Type             0\n",
              "dtype: int64"
            ]
          },
          "execution_count": 217,
          "metadata": {},
          "output_type": "execute_result"
        }
      ],
      "source": [
        "Y.isna().sum()"
      ]
    },
    {
      "cell_type": "code",
      "execution_count": 218,
      "metadata": {
        "colab": {
          "base_uri": "https://localhost:8080/"
        },
        "id": "sTyFmdQATSxW",
        "outputId": "f392a1c0-e11d-4e2a-bba0-16a63a84f1d0"
      },
      "outputs": [
        {
          "data": {
            "text/plain": [
              "Area    0\n",
              "dtype: int64"
            ]
          },
          "execution_count": 218,
          "metadata": {},
          "output_type": "execute_result"
        }
      ],
      "source": [
        "X.isna().sum()"
      ]
    },
    {
      "cell_type": "code",
      "execution_count": 219,
      "metadata": {
        "colab": {
          "base_uri": "https://localhost:8080/"
        },
        "id": "Yqh2pL8ATLQw",
        "outputId": "1b4ac503-848c-4b0d-990b-1014988b7c8c"
      },
      "outputs": [
        {
          "data": {
            "text/plain": [
              "IsDrinkable_status    0\n",
              "IsSwimmable_status    0\n",
              "WaterQualityStatus    0\n",
              "Site Type             0\n",
              "dtype: int64"
            ]
          },
          "execution_count": 219,
          "metadata": {},
          "output_type": "execute_result"
        }
      ],
      "source": [
        "Y.isna().sum()"
      ]
    },
    {
      "cell_type": "code",
      "execution_count": 220,
      "metadata": {
        "id": "ELW7MEKIOITI"
      },
      "outputs": [],
      "source": [
        "from sklearn.model_selection import train_test_split\n",
        "\n",
        "X_train, X_test, y_train, y_test = train_test_split(X, Y, test_size=0.2, random_state=42)"
      ]
    },
    {
      "cell_type": "code",
      "execution_count": 221,
      "metadata": {
        "colab": {
          "base_uri": "https://localhost:8080/",
          "height": 481
        },
        "id": "dmP2C0fmZku-",
        "outputId": "1b2774be-3c3c-42d8-9197-0f375fd42b8f"
      },
      "outputs": [
        {
          "data": {
            "text/html": [
              "<div>\n",
              "<style scoped>\n",
              "    .dataframe tbody tr th:only-of-type {\n",
              "        vertical-align: middle;\n",
              "    }\n",
              "\n",
              "    .dataframe tbody tr th {\n",
              "        vertical-align: top;\n",
              "    }\n",
              "\n",
              "    .dataframe thead th {\n",
              "        text-align: right;\n",
              "    }\n",
              "</style>\n",
              "<table border=\"1\" class=\"dataframe\">\n",
              "  <thead>\n",
              "    <tr style=\"text-align: right;\">\n",
              "      <th></th>\n",
              "      <th>Area</th>\n",
              "    </tr>\n",
              "  </thead>\n",
              "  <tbody>\n",
              "    <tr>\n",
              "      <th>752604</th>\n",
              "      <td>30</td>\n",
              "    </tr>\n",
              "    <tr>\n",
              "      <th>1307251</th>\n",
              "      <td>30</td>\n",
              "    </tr>\n",
              "    <tr>\n",
              "      <th>39757</th>\n",
              "      <td>4</td>\n",
              "    </tr>\n",
              "    <tr>\n",
              "      <th>807867</th>\n",
              "      <td>30</td>\n",
              "    </tr>\n",
              "    <tr>\n",
              "      <th>74071</th>\n",
              "      <td>30</td>\n",
              "    </tr>\n",
              "  </tbody>\n",
              "</table>\n",
              "</div>"
            ],
            "text/plain": [
              "         Area\n",
              "752604     30\n",
              "1307251    30\n",
              "39757       4\n",
              "807867     30\n",
              "74071      30"
            ]
          },
          "execution_count": 221,
          "metadata": {},
          "output_type": "execute_result"
        }
      ],
      "source": [
        "X.head()"
      ]
    },
    {
      "cell_type": "code",
      "execution_count": 222,
      "metadata": {
        "id": "U9CIX5Yweaoa"
      },
      "outputs": [],
      "source": [
        "import pickle\n",
        "\n",
        "def save_model(model, filename):\n",
        "    # Save the model to disk\n",
        "    pickle.dump(model, open(filename, 'wb'))\n",
        "\n",
        "def load_model(filename):\n",
        "    # Load the model from disk\n",
        "    loaded_model = pickle.load(open(filename, 'rb'))\n",
        "    return loaded_model"
      ]
    },
    {
      "cell_type": "code",
      "execution_count": 223,
      "metadata": {
        "colab": {
          "base_uri": "https://localhost:8080/"
        },
        "id": "j4RbO1-dqy1E",
        "outputId": "5cee803f-b880-4b1d-b3cc-b25fe310bf37"
      },
      "outputs": [
        {
          "data": {
            "text/plain": [
              "\"from sklearn.ensemble import RandomForestRegressor\\n\\nrf_regressor = RandomForestRegressor()\\nrf_regressor.fit(X_train, y_train)\\n\\ny_pred = rf_regressor.predict(X_test)\\n\\nfrom sklearn.metrics import mean_squared_error\\n\\nmse = mean_squared_error(y_test, y_pred)\\nprint('Mean Squared Error:', mse)\\n\\n\\n# save the model\\nfilenamelr = 'rf_regressor.sav'\\n\\nsave_model(rf_regressor, filenamelr)\\nmodel_rndclass_loaded= load_model(filenamelr)\""
            ]
          },
          "execution_count": 223,
          "metadata": {},
          "output_type": "execute_result"
        }
      ],
      "source": [
        "\"\"\"from sklearn.ensemble import RandomForestRegressor\n",
        "\n",
        "rf_regressor = RandomForestRegressor()\n",
        "rf_regressor.fit(X_train, y_train)\n",
        "\n",
        "y_pred = rf_regressor.predict(X_test)\n",
        "\n",
        "from sklearn.metrics import mean_squared_error\n",
        "\n",
        "mse = mean_squared_error(y_test, y_pred)\n",
        "print('Mean Squared Error:', mse)\n",
        "\n",
        "\n",
        "# save the model\n",
        "filenamelr = 'rf_regressor.sav'\n",
        "\n",
        "save_model(rf_regressor, filenamelr)\n",
        "model_rndclass_loaded= load_model(filenamelr)\"\"\""
      ]
    },
    {
      "cell_type": "code",
      "execution_count": 224,
      "metadata": {},
      "outputs": [
        {
          "data": {
            "text/plain": [
              "(80000, 1)"
            ]
          },
          "execution_count": 224,
          "metadata": {},
          "output_type": "execute_result"
        }
      ],
      "source": [
        "X_train.shape"
      ]
    },
    {
      "cell_type": "code",
      "execution_count": 225,
      "metadata": {},
      "outputs": [
        {
          "data": {
            "text/plain": [
              "(80000, 4)"
            ]
          },
          "execution_count": 225,
          "metadata": {},
          "output_type": "execute_result"
        }
      ],
      "source": [
        "y_train.shape"
      ]
    },
    {
      "cell_type": "code",
      "execution_count": 226,
      "metadata": {
        "colab": {
          "base_uri": "https://localhost:8080/"
        },
        "id": "xyjo0ENRouJm",
        "outputId": "d95f062c-1f56-4e5a-bd1a-a04e7fa6fc50"
      },
      "outputs": [],
      "source": [
        "from sklearn.metrics import accuracy_score\n",
        "from sklearn.ensemble import RandomForestClassifier\n",
        "\n",
        "dtc2 = RandomForestClassifier()\n",
        "dtc2.fit(X_train, y_train)\n",
        "y_pred = dtc2.predict(X_test)\n",
        "\n",
        "filenamelr = 'dodo.sav'\n",
        "\n",
        "save_model(dtc2, filenamelr)\n",
        "model_rndclass_loaded= load_model(filenamelr)\n",
        "\n",
        "\n",
        "filenamelr = 'dodo.pkl'\n",
        "\n",
        "save_model(dtc2, filenamelr)\n",
        "model_rndclass_loaded= load_model(filenamelr)"
      ]
    },
    {
      "cell_type": "code",
      "execution_count": 228,
      "metadata": {},
      "outputs": [
        {
          "data": {
            "text/plain": [
              "\"from sklearn.metrics import hamming_score\\n\\nhamming_score_value = hamming_score(y_test, y_pred)\\nprint('Hamming Score:', hamming_score_value)\""
            ]
          },
          "execution_count": 228,
          "metadata": {},
          "output_type": "execute_result"
        }
      ],
      "source": [
        "\"\"\"from sklearn.metrics import hamming_score\n",
        "\n",
        "hamming_score_value = hamming_score(y_test, y_pred)\n",
        "print('Hamming Score:', hamming_score_value)\"\"\""
      ]
    },
    {
      "cell_type": "code",
      "execution_count": 229,
      "metadata": {},
      "outputs": [
        {
          "name": "stdout",
          "output_type": "stream",
          "text": [
            "Subset Accuracy: 0.32765\n"
          ]
        }
      ],
      "source": [
        "subset_accuracy = (y_test == y_pred).all(axis=1).mean()\n",
        "print('Subset Accuracy:', subset_accuracy)"
      ]
    },
    {
      "cell_type": "code",
      "execution_count": 230,
      "metadata": {},
      "outputs": [
        {
          "name": "stderr",
          "output_type": "stream",
          "text": [
            "c:\\Users\\Hazem\\AppData\\Local\\Programs\\Python\\Python39\\lib\\site-packages\\tensorflow\\python\\framework\\indexed_slices.py:35: RuntimeWarning: coroutine 'Server.serve' was never awaited\n",
            "  from tensorflow.python.ops import gen_math_ops\n",
            "RuntimeWarning: Enable tracemalloc to get the object allocation traceback\n",
            "c:\\Users\\Hazem\\AppData\\Local\\Programs\\Python\\Python39\\lib\\site-packages\\tensorflow\\python\\framework\\indexed_slices.py:35: RuntimeWarning: coroutine 'main' was never awaited\n",
            "  from tensorflow.python.ops import gen_math_ops\n",
            "RuntimeWarning: Enable tracemalloc to get the object allocation traceback\n"
          ]
        }
      ],
      "source": [
        "import keras\n",
        "from keras.models import Sequential\n",
        "from keras.layers import Dense\n",
        "from keras.optimizers import RMSprop\n",
        "from keras.layers import Dense\n",
        "import matplotlib.pyplot as plt\n",
        "import tensorflow as tf\n",
        "\n",
        "from sklearn.preprocessing import StandardScaler, OneHotEncoder\n",
        "from sklearn.compose import make_column_transformer\n",
        "from sklearn.model_selection import GroupShuffleSplit\n",
        "\n",
        "from tensorflow import keras\n",
        "\n",
        "from tensorflow.keras import layers\n",
        "from tensorflow.keras import callbacks"
      ]
    },
    {
      "cell_type": "code",
      "execution_count": 234,
      "metadata": {},
      "outputs": [
        {
          "name": "stdout",
          "output_type": "stream",
          "text": [
            "Model: \"sequential_2\"\n",
            "_________________________________________________________________\n",
            " Layer (type)                Output Shape              Param #   \n",
            "=================================================================\n",
            " dense_12 (Dense)            (None, 128)               256       \n",
            "                                                                 \n",
            " dense_13 (Dense)            (None, 64)                8256      \n",
            "                                                                 \n",
            " dense_14 (Dense)            (None, 32)                2080      \n",
            "                                                                 \n",
            " dense_15 (Dense)            (None, 16)                528       \n",
            "                                                                 \n",
            " dense_16 (Dense)            (None, 8)                 136       \n",
            "                                                                 \n",
            " dense_17 (Dense)            (None, 4)                 36        \n",
            "                                                                 \n",
            "=================================================================\n",
            "Total params: 11292 (44.11 KB)\n",
            "Trainable params: 11292 (44.11 KB)\n",
            "Non-trainable params: 0 (0.00 Byte)\n",
            "_________________________________________________________________\n"
          ]
        }
      ],
      "source": [
        "batch_size = 150\n",
        "epochs = 250\n",
        "\n",
        "model = Sequential()\n",
        "\n",
        "#model.add(Dense(200, activation='relu', input_shape=X_train.shape[1:]))\n",
        "model.add(Dense(128, activation='relu', input_dim=1))\n",
        "\n",
        "layers.BatchNormalization()\n",
        "layers.Dropout(0.3)\n",
        "\n",
        "\n",
        "model.add(Dense(64, activation='relu'))\n",
        "\n",
        "layers.BatchNormalization()\n",
        "layers.Dropout(0.3)\n",
        "\n",
        "model.add(Dense(32, activation='relu'))\n",
        "\n",
        "layers.BatchNormalization()\n",
        "layers.Dropout(0.3)\n",
        "\n",
        "model.add(Dense(16, activation='relu'))\n",
        "\n",
        "layers.BatchNormalization()\n",
        "layers.Dropout(0.3)\n",
        "\n",
        "model.add(Dense(8, activation='relu'))\n",
        "\n",
        "layers.BatchNormalization()\n",
        "layers.Dropout(0.3)\n",
        "\n",
        "\n",
        "model.add(Dense(4, activation='softmax'))\n",
        "\n",
        "\n",
        "model.summary()"
      ]
    },
    {
      "cell_type": "code",
      "execution_count": 235,
      "metadata": {},
      "outputs": [
        {
          "name": "stdout",
          "output_type": "stream",
          "text": [
            "Epoch 1/250\n",
            "427/427 [==============================] - 17s 14ms/step - loss: 666597.8750 - accuracy: 0.7956 - val_loss: 4663865.5000 - val_accuracy: 0.8009\n",
            "Epoch 2/250\n",
            "427/427 [==============================] - 4s 9ms/step - loss: 74168568.0000 - accuracy: 0.7973 - val_loss: 243962656.0000 - val_accuracy: 0.8009\n",
            "Epoch 3/250\n",
            "427/427 [==============================] - 4s 8ms/step - loss: 904982208.0000 - accuracy: 0.7973 - val_loss: 1950484352.0000 - val_accuracy: 0.8009\n",
            "Epoch 4/250\n",
            "427/427 [==============================] - 3s 8ms/step - loss: 4475182592.0000 - accuracy: 0.7973 - val_loss: 7832686592.0000 - val_accuracy: 0.8009\n",
            "Epoch 5/250\n",
            "427/427 [==============================] - 4s 9ms/step - loss: 14296505344.0000 - accuracy: 0.7973 - val_loss: 21582338048.0000 - val_accuracy: 0.8009\n",
            "Epoch 6/250\n",
            "427/427 [==============================] - 3s 8ms/step - loss: 34472480768.0000 - accuracy: 0.7973 - val_loss: 48588488704.0000 - val_accuracy: 0.8009\n",
            "Epoch 7/250\n",
            "427/427 [==============================] - 4s 9ms/step - loss: 70894338048.0000 - accuracy: 0.7973 - val_loss: 94601232384.0000 - val_accuracy: 0.8009\n",
            "Epoch 8/250\n",
            "427/427 [==============================] - 4s 9ms/step - loss: 130370969600.0000 - accuracy: 0.7973 - val_loss: 165784059904.0000 - val_accuracy: 0.8009\n",
            "Epoch 9/250\n",
            "427/427 [==============================] - 4s 10ms/step - loss: 217984466944.0000 - accuracy: 0.7973 - val_loss: 256970817536.0000 - val_accuracy: 0.8009\n",
            "Epoch 10/250\n",
            "427/427 [==============================] - 4s 9ms/step - loss: 313814548480.0000 - accuracy: 0.7973 - val_loss: 360705032192.0000 - val_accuracy: 0.8009\n",
            "Epoch 11/250\n",
            "427/427 [==============================] - 2s 5ms/step - loss: 441293012992.0000 - accuracy: 0.7973 - val_loss: 507587133440.0000 - val_accuracy: 0.8009\n",
            "Epoch 12/250\n",
            "427/427 [==============================] - 4s 9ms/step - loss: 616670167040.0000 - accuracy: 0.7973 - val_loss: 695377985536.0000 - val_accuracy: 0.8009\n",
            "Epoch 13/250\n",
            "427/427 [==============================] - 4s 8ms/step - loss: 834591653888.0000 - accuracy: 0.7973 - val_loss: 940401098752.0000 - val_accuracy: 0.8009\n",
            "Epoch 14/250\n",
            "427/427 [==============================] - 3s 8ms/step - loss: 1110269886464.0000 - accuracy: 0.7973 - val_loss: 1246632738816.0000 - val_accuracy: 0.8009\n",
            "Epoch 15/250\n",
            "427/427 [==============================] - 4s 8ms/step - loss: 1463084122112.0000 - accuracy: 0.7973 - val_loss: 1611617665024.0000 - val_accuracy: 0.8009\n",
            "Epoch 16/250\n",
            "427/427 [==============================] - 3s 8ms/step - loss: 1873381425152.0000 - accuracy: 0.7973 - val_loss: 2069819949056.0000 - val_accuracy: 0.8009\n",
            "Epoch 17/250\n",
            "427/427 [==============================] - 4s 9ms/step - loss: 2401361461248.0000 - accuracy: 0.7973 - val_loss: 2608267788288.0000 - val_accuracy: 0.8009\n",
            "Epoch 18/250\n",
            "427/427 [==============================] - 5s 11ms/step - loss: 2984833712128.0000 - accuracy: 0.7973 - val_loss: 3247085453312.0000 - val_accuracy: 0.8009\n",
            "Epoch 19/250\n",
            "427/427 [==============================] - 4s 9ms/step - loss: 3714440495104.0000 - accuracy: 0.7973 - val_loss: 4026197344256.0000 - val_accuracy: 0.8009\n",
            "Epoch 20/250\n",
            "427/427 [==============================] - 5s 11ms/step - loss: 4568657690624.0000 - accuracy: 0.7973 - val_loss: 4908514279424.0000 - val_accuracy: 0.8009\n",
            "Epoch 21/250\n",
            "427/427 [==============================] - 4s 9ms/step - loss: 5524417413120.0000 - accuracy: 0.7973 - val_loss: 5965525024768.0000 - val_accuracy: 0.8009\n",
            "Epoch 22/250\n",
            "427/427 [==============================] - 4s 10ms/step - loss: 6732075499520.0000 - accuracy: 0.7973 - val_loss: 7182940635136.0000 - val_accuracy: 0.8009\n",
            "Epoch 23/250\n",
            "427/427 [==============================] - 4s 9ms/step - loss: 8046090125312.0000 - accuracy: 0.7973 - val_loss: 8576373358592.0000 - val_accuracy: 0.8009\n",
            "Epoch 24/250\n",
            "427/427 [==============================] - 4s 9ms/step - loss: 9617312579584.0000 - accuracy: 0.7973 - val_loss: 10146621161472.0000 - val_accuracy: 0.8009\n",
            "Epoch 25/250\n",
            "427/427 [==============================] - 4s 8ms/step - loss: 11374808793088.0000 - accuracy: 0.7973 - val_loss: 11959245209600.0000 - val_accuracy: 0.8009\n",
            "Epoch 26/250\n",
            "427/427 [==============================] - 4s 9ms/step - loss: 13310836604928.0000 - accuracy: 0.7973 - val_loss: 14068414939136.0000 - val_accuracy: 0.8009\n",
            "Epoch 27/250\n",
            "427/427 [==============================] - 3s 7ms/step - loss: 15639179689984.0000 - accuracy: 0.7973 - val_loss: 16461390151680.0000 - val_accuracy: 0.8009\n",
            "Epoch 28/250\n",
            "427/427 [==============================] - 3s 8ms/step - loss: 18300142616576.0000 - accuracy: 0.7973 - val_loss: 19183119106048.0000 - val_accuracy: 0.8009\n",
            "Epoch 29/250\n",
            "427/427 [==============================] - 4s 10ms/step - loss: 21147406041088.0000 - accuracy: 0.7973 - val_loss: 22248364703744.0000 - val_accuracy: 0.8009\n",
            "Epoch 30/250\n",
            "427/427 [==============================] - 5s 11ms/step - loss: 24409389662208.0000 - accuracy: 0.7973 - val_loss: 25676988022784.0000 - val_accuracy: 0.8009\n",
            "Epoch 31/250\n",
            "427/427 [==============================] - 4s 9ms/step - loss: 28272672899072.0000 - accuracy: 0.7973 - val_loss: 29327634726912.0000 - val_accuracy: 0.8009\n",
            "Epoch 32/250\n",
            "427/427 [==============================] - 3s 8ms/step - loss: 32173662928896.0000 - accuracy: 0.7973 - val_loss: 33531331870720.0000 - val_accuracy: 0.8009\n",
            "Epoch 33/250\n",
            "427/427 [==============================] - 3s 8ms/step - loss: 36780095045632.0000 - accuracy: 0.7973 - val_loss: 38195219660800.0000 - val_accuracy: 0.8009\n",
            "Epoch 34/250\n",
            "427/427 [==============================] - 3s 8ms/step - loss: 41707026513920.0000 - accuracy: 0.7973 - val_loss: 43340347211776.0000 - val_accuracy: 0.8009\n",
            "Epoch 35/250\n",
            "427/427 [==============================] - 4s 11ms/step - loss: 47401041657856.0000 - accuracy: 0.7973 - val_loss: 49140968980480.0000 - val_accuracy: 0.8009\n",
            "Epoch 36/250\n",
            "427/427 [==============================] - 3s 8ms/step - loss: 53616635281408.0000 - accuracy: 0.7973 - val_loss: 55377588649984.0000 - val_accuracy: 0.8009\n",
            "Epoch 37/250\n",
            "427/427 [==============================] - 3s 8ms/step - loss: 60428549881856.0000 - accuracy: 0.7973 - val_loss: 62219152785408.0000 - val_accuracy: 0.8009\n",
            "Epoch 38/250\n",
            "427/427 [==============================] - 4s 8ms/step - loss: 67597974372352.0000 - accuracy: 0.7973 - val_loss: 69921606205440.0000 - val_accuracy: 0.8009\n",
            "Epoch 39/250\n",
            "427/427 [==============================] - 3s 8ms/step - loss: 75982979465216.0000 - accuracy: 0.7973 - val_loss: 78281139290112.0000 - val_accuracy: 0.8009\n",
            "Epoch 40/250\n",
            "427/427 [==============================] - 4s 8ms/step - loss: 84781614235648.0000 - accuracy: 0.7973 - val_loss: 87560667791360.0000 - val_accuracy: 0.8009\n",
            "Epoch 41/250\n",
            "427/427 [==============================] - 5s 11ms/step - loss: 94887831666688.0000 - accuracy: 0.7973 - val_loss: 97313406058496.0000 - val_accuracy: 0.8009\n",
            "Epoch 42/250\n",
            "427/427 [==============================] - 4s 10ms/step - loss: 104839539326976.0000 - accuracy: 0.7973 - val_loss: 108246991896576.0000 - val_accuracy: 0.8009\n",
            "Epoch 43/250\n",
            "427/427 [==============================] - 3s 7ms/step - loss: 116837094260736.0000 - accuracy: 0.7973 - val_loss: 120133758484480.0000 - val_accuracy: 0.8009\n",
            "Epoch 44/250\n",
            "427/427 [==============================] - 3s 7ms/step - loss: 129220634214400.0000 - accuracy: 0.7973 - val_loss: 132638555766784.0000 - val_accuracy: 0.8009\n",
            "Epoch 45/250\n",
            "427/427 [==============================] - 3s 7ms/step - loss: 143421104717824.0000 - accuracy: 0.7973 - val_loss: 146391678582784.0000 - val_accuracy: 0.8009\n",
            "Epoch 46/250\n",
            "427/427 [==============================] - 4s 9ms/step - loss: 158515213631488.0000 - accuracy: 0.7973 - val_loss: 161293940031488.0000 - val_accuracy: 0.8009\n",
            "Epoch 47/250\n",
            "427/427 [==============================] - 4s 9ms/step - loss: 173122900721664.0000 - accuracy: 0.7973 - val_loss: 177779131809792.0000 - val_accuracy: 0.8009\n",
            "Epoch 48/250\n",
            "427/427 [==============================] - 3s 7ms/step - loss: 191518044323840.0000 - accuracy: 0.7973 - val_loss: 195273775120384.0000 - val_accuracy: 0.8009\n",
            "Epoch 49/250\n",
            "427/427 [==============================] - 3s 7ms/step - loss: 210679806033920.0000 - accuracy: 0.7973 - val_loss: 214050331951104.0000 - val_accuracy: 0.8009\n",
            "Epoch 50/250\n",
            "427/427 [==============================] - 3s 7ms/step - loss: 229432203673600.0000 - accuracy: 0.7973 - val_loss: 234629650972672.0000 - val_accuracy: 0.8009\n",
            "Epoch 51/250\n",
            "427/427 [==============================] - 3s 8ms/step - loss: 252888462917632.0000 - accuracy: 0.7973 - val_loss: 256403038011392.0000 - val_accuracy: 0.8009\n",
            "Epoch 52/250\n",
            "427/427 [==============================] - 3s 8ms/step - loss: 275094232367104.0000 - accuracy: 0.7973 - val_loss: 279379418546176.0000 - val_accuracy: 0.8009\n",
            "Epoch 53/250\n",
            "427/427 [==============================] - 4s 9ms/step - loss: 299895688790016.0000 - accuracy: 0.7973 - val_loss: 304774872301568.0000 - val_accuracy: 0.8009\n",
            "Epoch 54/250\n",
            "427/427 [==============================] - 3s 6ms/step - loss: 327723620761600.0000 - accuracy: 0.7973 - val_loss: 331445881012224.0000 - val_accuracy: 0.8009\n",
            "Epoch 55/250\n",
            "427/427 [==============================] - 3s 7ms/step - loss: 354622430511104.0000 - accuracy: 0.7973 - val_loss: 359752668282880.0000 - val_accuracy: 0.8009\n",
            "Epoch 56/250\n",
            "427/427 [==============================] - 4s 9ms/step - loss: 385421942980608.0000 - accuracy: 0.7973 - val_loss: 391978177003520.0000 - val_accuracy: 0.8009\n",
            "Epoch 57/250\n",
            "427/427 [==============================] - 4s 10ms/step - loss: 420166416465920.0000 - accuracy: 0.7973 - val_loss: 424019639664640.0000 - val_accuracy: 0.8009\n",
            "Epoch 58/250\n",
            "427/427 [==============================] - 3s 6ms/step - loss: 455611506491392.0000 - accuracy: 0.7973 - val_loss: 458727136165888.0000 - val_accuracy: 0.8009\n",
            "Epoch 59/250\n",
            "427/427 [==============================] - 3s 7ms/step - loss: 490069794226176.0000 - accuracy: 0.7973 - val_loss: 495701435875328.0000 - val_accuracy: 0.8009\n",
            "Epoch 60/250\n",
            "427/427 [==============================] - 3s 8ms/step - loss: 531892306706432.0000 - accuracy: 0.7973 - val_loss: 537366913613824.0000 - val_accuracy: 0.8009\n",
            "Epoch 61/250\n",
            "427/427 [==============================] - 4s 10ms/step - loss: 574121700229120.0000 - accuracy: 0.7973 - val_loss: 580377185878016.0000 - val_accuracy: 0.8009\n",
            "Epoch 62/250\n",
            "427/427 [==============================] - 4s 9ms/step - loss: 620222604115968.0000 - accuracy: 0.7973 - val_loss: 625747475562496.0000 - val_accuracy: 0.8009\n",
            "Epoch 63/250\n",
            "427/427 [==============================] - 3s 8ms/step - loss: 667446373515264.0000 - accuracy: 0.7973 - val_loss: 674986859692032.0000 - val_accuracy: 0.8009\n",
            "Epoch 64/250\n",
            "427/427 [==============================] - 3s 7ms/step - loss: 720403387383808.0000 - accuracy: 0.7973 - val_loss: 725965168705536.0000 - val_accuracy: 0.8009\n",
            "Epoch 65/250\n",
            "427/427 [==============================] - 5s 12ms/step - loss: 774240064241664.0000 - accuracy: 0.7973 - val_loss: 781046580772864.0000 - val_accuracy: 0.8009\n",
            "Epoch 66/250\n",
            "427/427 [==============================] - 5s 12ms/step - loss: 830232009375744.0000 - accuracy: 0.7973 - val_loss: 839304322482176.0000 - val_accuracy: 0.8009\n",
            "Epoch 67/250\n",
            "427/427 [==============================] - 3s 6ms/step - loss: 892080612179968.0000 - accuracy: 0.7973 - val_loss: 899998451499008.0000 - val_accuracy: 0.8009\n",
            "Epoch 68/250\n",
            "427/427 [==============================] - 5s 11ms/step - loss: 956925491544064.0000 - accuracy: 0.7973 - val_loss: 963999772442624.0000 - val_accuracy: 0.8009\n",
            "Epoch 69/250\n",
            "427/427 [==============================] - 3s 8ms/step - loss: 1026281562963968.0000 - accuracy: 0.7973 - val_loss: 1033286184861696.0000 - val_accuracy: 0.8009\n",
            "Epoch 70/250\n",
            "427/427 [==============================] - 4s 9ms/step - loss: 1099049650356224.0000 - accuracy: 0.7973 - val_loss: 1103376897015808.0000 - val_accuracy: 0.8009\n",
            "Epoch 71/250\n",
            "427/427 [==============================] - 3s 8ms/step - loss: 1177090279866368.0000 - accuracy: 0.7973 - val_loss: 1179513312509952.0000 - val_accuracy: 0.8009\n",
            "Epoch 72/250\n",
            "427/427 [==============================] - 4s 8ms/step - loss: 1252568290295808.0000 - accuracy: 0.7973 - val_loss: 1257429924839424.0000 - val_accuracy: 0.8009\n",
            "Epoch 73/250\n",
            "427/427 [==============================] - 4s 9ms/step - loss: 1333775921315840.0000 - accuracy: 0.7973 - val_loss: 1345391391932416.0000 - val_accuracy: 0.8009\n",
            "Epoch 74/250\n",
            "427/427 [==============================] - 4s 8ms/step - loss: 1430608777576448.0000 - accuracy: 0.7973 - val_loss: 1435371225219072.0000 - val_accuracy: 0.8009\n",
            "Epoch 75/250\n",
            "427/427 [==============================] - 4s 8ms/step - loss: 1523827955728384.0000 - accuracy: 0.7973 - val_loss: 1530960017358848.0000 - val_accuracy: 0.8009\n",
            "Epoch 76/250\n",
            "427/427 [==============================] - 4s 9ms/step - loss: 1621930645913600.0000 - accuracy: 0.7973 - val_loss: 1632795168342016.0000 - val_accuracy: 0.8009\n",
            "Epoch 77/250\n",
            "427/427 [==============================] - 3s 8ms/step - loss: 1731329771175936.0000 - accuracy: 0.7973 - val_loss: 1737319103070208.0000 - val_accuracy: 0.8009\n",
            "Epoch 78/250\n",
            "427/427 [==============================] - 4s 9ms/step - loss: 1842365010542592.0000 - accuracy: 0.7973 - val_loss: 1848019871858688.0000 - val_accuracy: 0.8009\n",
            "Epoch 79/250\n",
            "427/427 [==============================] - 3s 7ms/step - loss: 1962135139647488.0000 - accuracy: 0.7973 - val_loss: 1966483794034688.0000 - val_accuracy: 0.8009\n",
            "Epoch 80/250\n",
            "427/427 [==============================] - 4s 9ms/step - loss: 2082009958580224.0000 - accuracy: 0.7973 - val_loss: 2089011829014528.0000 - val_accuracy: 0.8009\n",
            "Epoch 81/250\n",
            "427/427 [==============================] - 3s 8ms/step - loss: 2210762877566976.0000 - accuracy: 0.7973 - val_loss: 2216425255075840.0000 - val_accuracy: 0.8009\n",
            "Epoch 82/250\n",
            "427/427 [==============================] - 4s 9ms/step - loss: 2346392173412352.0000 - accuracy: 0.7973 - val_loss: 2349797545607168.0000 - val_accuracy: 0.8009\n",
            "Epoch 83/250\n",
            "427/427 [==============================] - 4s 10ms/step - loss: 2485256787591168.0000 - accuracy: 0.7973 - val_loss: 2493165969866752.0000 - val_accuracy: 0.8009\n",
            "Epoch 84/250\n",
            "427/427 [==============================] - 4s 10ms/step - loss: 2639270556729344.0000 - accuracy: 0.7973 - val_loss: 2636046110031872.0000 - val_accuracy: 0.8009\n",
            "Epoch 85/250\n",
            "427/427 [==============================] - 4s 9ms/step - loss: 2789546630578176.0000 - accuracy: 0.7973 - val_loss: 2787647986597888.0000 - val_accuracy: 0.8009\n",
            "Epoch 86/250\n",
            "427/427 [==============================] - 4s 9ms/step - loss: 2947533781336064.0000 - accuracy: 0.7973 - val_loss: 2952488562982912.0000 - val_accuracy: 0.8009\n",
            "Epoch 87/250\n",
            "427/427 [==============================] - 4s 10ms/step - loss: 3124537973538816.0000 - accuracy: 0.7973 - val_loss: 3120245959032832.0000 - val_accuracy: 0.8009\n",
            "Epoch 88/250\n",
            "427/427 [==============================] - 4s 9ms/step - loss: 3299420183461888.0000 - accuracy: 0.7973 - val_loss: 3291043118186496.0000 - val_accuracy: 0.8009\n",
            "Epoch 89/250\n",
            "427/427 [==============================] - 5s 11ms/step - loss: 3487529013608448.0000 - accuracy: 0.7973 - val_loss: 3475890457542656.0000 - val_accuracy: 0.8009\n",
            "Epoch 90/250\n",
            "427/427 [==============================] - 4s 9ms/step - loss: 3679471370502144.0000 - accuracy: 0.7973 - val_loss: 3678360047714304.0000 - val_accuracy: 0.8009\n",
            "Epoch 91/250\n",
            "427/427 [==============================] - 4s 10ms/step - loss: 3877929729654784.0000 - accuracy: 0.7973 - val_loss: 3879107356000256.0000 - val_accuracy: 0.8009\n",
            "Epoch 92/250\n",
            "427/427 [==============================] - 4s 9ms/step - loss: 4100028930981888.0000 - accuracy: 0.7973 - val_loss: 4100585397682176.0000 - val_accuracy: 0.8009\n",
            "Epoch 93/250\n",
            "427/427 [==============================] - 3s 7ms/step - loss: 4334035392266240.0000 - accuracy: 0.7973 - val_loss: 4323303342735360.0000 - val_accuracy: 0.8009\n",
            "Epoch 94/250\n",
            "427/427 [==============================] - 4s 10ms/step - loss: 4565654388604928.0000 - accuracy: 0.7973 - val_loss: 4552161211973632.0000 - val_accuracy: 0.8009\n",
            "Epoch 95/250\n",
            "427/427 [==============================] - 4s 10ms/step - loss: 4808276017414144.0000 - accuracy: 0.7973 - val_loss: 4792185996181504.0000 - val_accuracy: 0.8009\n",
            "Epoch 96/250\n",
            "427/427 [==============================] - 4s 10ms/step - loss: 5066209204633600.0000 - accuracy: 0.7973 - val_loss: 5048428576899072.0000 - val_accuracy: 0.8009\n",
            "Epoch 97/250\n",
            "427/427 [==============================] - 4s 10ms/step - loss: 5316850074255360.0000 - accuracy: 0.7973 - val_loss: 5316519361773568.0000 - val_accuracy: 0.8009\n",
            "Epoch 98/250\n",
            "427/427 [==============================] - 4s 9ms/step - loss: 5605191629930496.0000 - accuracy: 0.7973 - val_loss: 5590415331819520.0000 - val_accuracy: 0.8009\n",
            "Epoch 99/250\n",
            "427/427 [==============================] - 4s 9ms/step - loss: 5890390880157696.0000 - accuracy: 0.7973 - val_loss: 5876973402324992.0000 - val_accuracy: 0.8009\n",
            "Epoch 100/250\n",
            "427/427 [==============================] - 4s 10ms/step - loss: 6199876559831040.0000 - accuracy: 0.7973 - val_loss: 6175534295810048.0000 - val_accuracy: 0.8009\n",
            "Epoch 101/250\n",
            "427/427 [==============================] - 5s 11ms/step - loss: 6507711361449984.0000 - accuracy: 0.7973 - val_loss: 6487181417775104.0000 - val_accuracy: 0.8009\n",
            "Epoch 102/250\n",
            "427/427 [==============================] - 4s 10ms/step - loss: 6818420033060864.0000 - accuracy: 0.7973 - val_loss: 6807482898841600.0000 - val_accuracy: 0.8009\n",
            "Epoch 103/250\n",
            "427/427 [==============================] - 5s 11ms/step - loss: 7163851367776256.0000 - accuracy: 0.7973 - val_loss: 7145894109511680.0000 - val_accuracy: 0.8009\n",
            "Epoch 104/250\n",
            "427/427 [==============================] - 5s 11ms/step - loss: 7529107197788160.0000 - accuracy: 0.7973 - val_loss: 7494697530425344.0000 - val_accuracy: 0.8009\n",
            "Epoch 105/250\n",
            "427/427 [==============================] - 5s 11ms/step - loss: 7910803088867328.0000 - accuracy: 0.7973 - val_loss: 7855280436019200.0000 - val_accuracy: 0.8009\n",
            "Epoch 106/250\n",
            "427/427 [==============================] - 3s 7ms/step - loss: 8254893856915456.0000 - accuracy: 0.7973 - val_loss: 8224723859144704.0000 - val_accuracy: 0.8009\n",
            "Epoch 107/250\n",
            "427/427 [==============================] - 4s 9ms/step - loss: 8666650760970240.0000 - accuracy: 0.7973 - val_loss: 8625829244305408.0000 - val_accuracy: 0.8009\n",
            "Epoch 108/250\n",
            "427/427 [==============================] - 4s 10ms/step - loss: 9081942423109632.0000 - accuracy: 0.7973 - val_loss: 9025821159194624.0000 - val_accuracy: 0.8009\n",
            "Epoch 109/250\n",
            "427/427 [==============================] - 3s 8ms/step - loss: 9524960783499264.0000 - accuracy: 0.7973 - val_loss: 9440588298452992.0000 - val_accuracy: 0.8009\n",
            "Epoch 110/250\n",
            "427/427 [==============================] - 3s 7ms/step - loss: 9944156034039808.0000 - accuracy: 0.7973 - val_loss: 9890573095796736.0000 - val_accuracy: 0.8009\n",
            "Epoch 111/250\n",
            "427/427 [==============================] - 3s 8ms/step - loss: 10403945167978496.0000 - accuracy: 0.7973 - val_loss: 10348352185040896.0000 - val_accuracy: 0.8009\n",
            "Epoch 112/250\n",
            "427/427 [==============================] - 4s 9ms/step - loss: 10864855288381440.0000 - accuracy: 0.7973 - val_loss: 10840328877637632.0000 - val_accuracy: 0.8009\n",
            "Epoch 113/250\n",
            "427/427 [==============================] - 3s 8ms/step - loss: 11410209834532864.0000 - accuracy: 0.7973 - val_loss: 11330259018317824.0000 - val_accuracy: 0.8009\n",
            "Epoch 114/250\n",
            "427/427 [==============================] - 3s 8ms/step - loss: 11917564657532928.0000 - accuracy: 0.7973 - val_loss: 11833795615391744.0000 - val_accuracy: 0.8009\n",
            "Epoch 115/250\n",
            "427/427 [==============================] - 4s 10ms/step - loss: 12460697631850496.0000 - accuracy: 0.7973 - val_loss: 12355402213621760.0000 - val_accuracy: 0.8009\n",
            "Epoch 116/250\n",
            "427/427 [==============================] - 4s 10ms/step - loss: 12991490091384832.0000 - accuracy: 0.7973 - val_loss: 12885431242719232.0000 - val_accuracy: 0.8009\n",
            "Epoch 117/250\n",
            "427/427 [==============================] - 4s 10ms/step - loss: 13558155191517184.0000 - accuracy: 0.7973 - val_loss: 13468578279849984.0000 - val_accuracy: 0.8009\n",
            "Epoch 118/250\n",
            "427/427 [==============================] - 4s 10ms/step - loss: 14177419682381824.0000 - accuracy: 0.7973 - val_loss: 14035352901648384.0000 - val_accuracy: 0.8009\n",
            "Epoch 119/250\n",
            "427/427 [==============================] - 4s 10ms/step - loss: 14767607244652544.0000 - accuracy: 0.7973 - val_loss: 14645690302988288.0000 - val_accuracy: 0.8009\n",
            "Epoch 120/250\n",
            "427/427 [==============================] - 5s 11ms/step - loss: 15402496826540032.0000 - accuracy: 0.7973 - val_loss: 15282464301776896.0000 - val_accuracy: 0.8009\n",
            "Epoch 121/250\n",
            "427/427 [==============================] - 4s 9ms/step - loss: 16044597658517504.0000 - accuracy: 0.7973 - val_loss: 15940152643813376.0000 - val_accuracy: 0.8009\n",
            "Epoch 122/250\n",
            "427/427 [==============================] - 5s 11ms/step - loss: 16765139625705472.0000 - accuracy: 0.7973 - val_loss: 16599932634923008.0000 - val_accuracy: 0.8009\n",
            "Epoch 123/250\n",
            "427/427 [==============================] - 5s 11ms/step - loss: 17431688485273600.0000 - accuracy: 0.7973 - val_loss: 17306943307644928.0000 - val_accuracy: 0.8009\n",
            "Epoch 124/250\n",
            "427/427 [==============================] - 5s 11ms/step - loss: 18179520674660352.0000 - accuracy: 0.7973 - val_loss: 18030964198342656.0000 - val_accuracy: 0.8009\n",
            "Epoch 125/250\n",
            "427/427 [==============================] - 5s 11ms/step - loss: 18942918899269632.0000 - accuracy: 0.7973 - val_loss: 18770286983774208.0000 - val_accuracy: 0.8009\n",
            "Epoch 126/250\n",
            "427/427 [==============================] - 4s 10ms/step - loss: 19703787388141568.0000 - accuracy: 0.7973 - val_loss: 19570544617717760.0000 - val_accuracy: 0.8009\n",
            "Epoch 127/250\n",
            "427/427 [==============================] - 4s 9ms/step - loss: 20606810704576512.0000 - accuracy: 0.7973 - val_loss: 20322990675722240.0000 - val_accuracy: 0.8009\n",
            "Epoch 128/250\n",
            "427/427 [==============================] - 4s 9ms/step - loss: 21340350316544000.0000 - accuracy: 0.7973 - val_loss: 21154137714458624.0000 - val_accuracy: 0.8009\n",
            "Epoch 129/250\n",
            "427/427 [==============================] - 4s 9ms/step - loss: 22208066854322176.0000 - accuracy: 0.7973 - val_loss: 22013103256371200.0000 - val_accuracy: 0.8009\n",
            "Epoch 130/250\n",
            "427/427 [==============================] - 4s 10ms/step - loss: 23138350328184832.0000 - accuracy: 0.7973 - val_loss: 22876642938454016.0000 - val_accuracy: 0.8009\n",
            "Epoch 131/250\n",
            "427/427 [==============================] - 4s 10ms/step - loss: 23999459058778112.0000 - accuracy: 0.7973 - val_loss: 23807630786953216.0000 - val_accuracy: 0.8009\n",
            "Epoch 132/250\n",
            "427/427 [==============================] - 4s 10ms/step - loss: 24960208883154944.0000 - accuracy: 0.7973 - val_loss: 24742260767719424.0000 - val_accuracy: 0.8009\n",
            "Epoch 133/250\n",
            "427/427 [==============================] - 4s 10ms/step - loss: 25960646352830464.0000 - accuracy: 0.7973 - val_loss: 25698071379705856.0000 - val_accuracy: 0.8009\n",
            "Epoch 134/250\n",
            "427/427 [==============================] - 5s 11ms/step - loss: 26946953380102144.0000 - accuracy: 0.7973 - val_loss: 26724751099559936.0000 - val_accuracy: 0.8009\n",
            "Epoch 135/250\n",
            "427/427 [==============================] - 4s 10ms/step - loss: 28022277899550720.0000 - accuracy: 0.7973 - val_loss: 27758313504505856.0000 - val_accuracy: 0.8009\n",
            "Epoch 136/250\n",
            "427/427 [==============================] - 5s 11ms/step - loss: 29129078086828032.0000 - accuracy: 0.7973 - val_loss: 28782257330192384.0000 - val_accuracy: 0.8009\n",
            "Epoch 137/250\n",
            "427/427 [==============================] - 4s 10ms/step - loss: 30249040201383936.0000 - accuracy: 0.7973 - val_loss: 29880377388564480.0000 - val_accuracy: 0.8009\n",
            "Epoch 138/250\n",
            "427/427 [==============================] - 4s 10ms/step - loss: 31278221739687936.0000 - accuracy: 0.7973 - val_loss: 30996965806309376.0000 - val_accuracy: 0.8009\n",
            "Epoch 139/250\n",
            "427/427 [==============================] - 4s 8ms/step - loss: 32412436703215616.0000 - accuracy: 0.7973 - val_loss: 32187249420402688.0000 - val_accuracy: 0.8009\n",
            "Epoch 140/250\n",
            "427/427 [==============================] - 3s 7ms/step - loss: 33735941612896256.0000 - accuracy: 0.7973 - val_loss: 33375879472087040.0000 - val_accuracy: 0.8009\n",
            "Epoch 141/250\n",
            "427/427 [==============================] - 4s 10ms/step - loss: 34999527433830400.0000 - accuracy: 0.7973 - val_loss: 34575966349033472.0000 - val_accuracy: 0.8009\n",
            "Epoch 142/250\n",
            "427/427 [==============================] - 4s 9ms/step - loss: 36166974706810880.0000 - accuracy: 0.7973 - val_loss: 35865169502404608.0000 - val_accuracy: 0.8009\n",
            "Epoch 143/250\n",
            "427/427 [==============================] - 3s 8ms/step - loss: 37605204635418624.0000 - accuracy: 0.7973 - val_loss: 37166860273188864.0000 - val_accuracy: 0.8009\n",
            "Epoch 144/250\n",
            "427/427 [==============================] - 4s 9ms/step - loss: 38916054423961600.0000 - accuracy: 0.7973 - val_loss: 38500340244414464.0000 - val_accuracy: 0.8009\n",
            "Epoch 145/250\n",
            "427/427 [==============================] - 4s 10ms/step - loss: 40353081761726464.0000 - accuracy: 0.7973 - val_loss: 39897686379331584.0000 - val_accuracy: 0.8009\n",
            "Epoch 146/250\n",
            "427/427 [==============================] - 3s 7ms/step - loss: 41801215884918784.0000 - accuracy: 0.7973 - val_loss: 41328314215825408.0000 - val_accuracy: 0.8009\n",
            "Epoch 147/250\n",
            "427/427 [==============================] - 3s 8ms/step - loss: 43275317380382720.0000 - accuracy: 0.7973 - val_loss: 42760518305316864.0000 - val_accuracy: 0.8009\n",
            "Epoch 148/250\n",
            "427/427 [==============================] - 3s 8ms/step - loss: 44777980408365056.0000 - accuracy: 0.7973 - val_loss: 44257924293328896.0000 - val_accuracy: 0.8009\n",
            "Epoch 149/250\n",
            "427/427 [==============================] - 4s 9ms/step - loss: 46357269947875328.0000 - accuracy: 0.7973 - val_loss: 45847126617358336.0000 - val_accuracy: 0.8009\n",
            "Epoch 150/250\n",
            "427/427 [==============================] - 4s 9ms/step - loss: 48047915104468992.0000 - accuracy: 0.7973 - val_loss: 47453130853449728.0000 - val_accuracy: 0.8009\n",
            "Epoch 151/250\n",
            "427/427 [==============================] - 4s 10ms/step - loss: 49624361375629312.0000 - accuracy: 0.7973 - val_loss: 49111344711991296.0000 - val_accuracy: 0.8009\n",
            "Epoch 152/250\n",
            "427/427 [==============================] - 5s 11ms/step - loss: 51463844328898560.0000 - accuracy: 0.7973 - val_loss: 50798768643112960.0000 - val_accuracy: 0.8009\n",
            "Epoch 153/250\n",
            "427/427 [==============================] - 5s 11ms/step - loss: 53138709775646720.0000 - accuracy: 0.7973 - val_loss: 52560426788978688.0000 - val_accuracy: 0.8009\n",
            "Epoch 154/250\n",
            "427/427 [==============================] - 5s 11ms/step - loss: 54927993151160320.0000 - accuracy: 0.7973 - val_loss: 54335536772415488.0000 - val_accuracy: 0.8009\n",
            "Epoch 155/250\n",
            "427/427 [==============================] - 4s 10ms/step - loss: 56948414486675456.0000 - accuracy: 0.7973 - val_loss: 56141450261299200.0000 - val_accuracy: 0.8009\n",
            "Epoch 156/250\n",
            "427/427 [==============================] - 4s 9ms/step - loss: 58825027432218624.0000 - accuracy: 0.7973 - val_loss: 57991932625813504.0000 - val_accuracy: 0.8009\n",
            "Epoch 157/250\n",
            "427/427 [==============================] - 3s 8ms/step - loss: 60641150058364928.0000 - accuracy: 0.7973 - val_loss: 59914055044825088.0000 - val_accuracy: 0.8009\n",
            "Epoch 158/250\n",
            "427/427 [==============================] - 3s 8ms/step - loss: 62771526851624960.0000 - accuracy: 0.7973 - val_loss: 61921342370349056.0000 - val_accuracy: 0.8009\n",
            "Epoch 159/250\n",
            "427/427 [==============================] - 5s 11ms/step - loss: 64731810055061504.0000 - accuracy: 0.7973 - val_loss: 63965665198866432.0000 - val_accuracy: 0.8009\n",
            "Epoch 160/250\n",
            "427/427 [==============================] - 4s 10ms/step - loss: 66916234716774400.0000 - accuracy: 0.7973 - val_loss: 66075842760933376.0000 - val_accuracy: 0.8009\n",
            "Epoch 161/250\n",
            "427/427 [==============================] - 4s 10ms/step - loss: 69089518233321472.0000 - accuracy: 0.7973 - val_loss: 68191513586171904.0000 - val_accuracy: 0.8009\n",
            "Epoch 162/250\n",
            "427/427 [==============================] - 4s 10ms/step - loss: 71394588526379008.0000 - accuracy: 0.7973 - val_loss: 70424621702184960.0000 - val_accuracy: 0.8009\n",
            "Epoch 163/250\n",
            "427/427 [==============================] - 4s 9ms/step - loss: 73768073353494528.0000 - accuracy: 0.7973 - val_loss: 72704991638323200.0000 - val_accuracy: 0.8009\n",
            "Epoch 164/250\n",
            "427/427 [==============================] - 4s 10ms/step - loss: 76031632787636224.0000 - accuracy: 0.7973 - val_loss: 74945804925665280.0000 - val_accuracy: 0.8009\n",
            "Epoch 165/250\n",
            "427/427 [==============================] - 4s 10ms/step - loss: 78425982565875712.0000 - accuracy: 0.7973 - val_loss: 77410377419194368.0000 - val_accuracy: 0.8009\n",
            "Epoch 166/250\n",
            "427/427 [==============================] - 4s 9ms/step - loss: 81047029307932672.0000 - accuracy: 0.7973 - val_loss: 79915545943605248.0000 - val_accuracy: 0.8009\n",
            "Epoch 167/250\n",
            "427/427 [==============================] - 4s 10ms/step - loss: 83567298937356288.0000 - accuracy: 0.7973 - val_loss: 82455194465468416.0000 - val_accuracy: 0.8009\n",
            "Epoch 168/250\n",
            "427/427 [==============================] - 4s 9ms/step - loss: 86259264179404800.0000 - accuracy: 0.7973 - val_loss: 85006516708442112.0000 - val_accuracy: 0.8009\n",
            "Epoch 169/250\n",
            "427/427 [==============================] - 4s 10ms/step - loss: 88815826282479616.0000 - accuracy: 0.7973 - val_loss: 87740280572215296.0000 - val_accuracy: 0.8009\n",
            "Epoch 170/250\n",
            "427/427 [==============================] - 4s 9ms/step - loss: 91817561745784832.0000 - accuracy: 0.7973 - val_loss: 90382587402387456.0000 - val_accuracy: 0.8009\n",
            "Epoch 171/250\n",
            "427/427 [==============================] - 4s 10ms/step - loss: 94539291111194624.0000 - accuracy: 0.7973 - val_loss: 93155796245807104.0000 - val_accuracy: 0.8009\n",
            "Epoch 172/250\n",
            "427/427 [==============================] - 4s 10ms/step - loss: 97479118915895296.0000 - accuracy: 0.7973 - val_loss: 96069957325946880.0000 - val_accuracy: 0.8009\n",
            "Epoch 173/250\n",
            "427/427 [==============================] - 5s 11ms/step - loss: 100399713857044480.0000 - accuracy: 0.7973 - val_loss: 98976645162991616.0000 - val_accuracy: 0.8009\n",
            "Epoch 174/250\n",
            "427/427 [==============================] - 5s 11ms/step - loss: 103406577511301120.0000 - accuracy: 0.7973 - val_loss: 102106946177335296.0000 - val_accuracy: 0.8009\n",
            "Epoch 175/250\n",
            "427/427 [==============================] - 4s 9ms/step - loss: 106840558483275776.0000 - accuracy: 0.7973 - val_loss: 105188714061234176.0000 - val_accuracy: 0.8009\n",
            "Epoch 176/250\n",
            "427/427 [==============================] - 3s 8ms/step - loss: 109922506755801088.0000 - accuracy: 0.7973 - val_loss: 108387433904603136.0000 - val_accuracy: 0.8009\n",
            "Epoch 177/250\n",
            "427/427 [==============================] - 2s 5ms/step - loss: 113184199409664000.0000 - accuracy: 0.7973 - val_loss: 111621905055744000.0000 - val_accuracy: 0.8009\n",
            "Epoch 178/250\n",
            "427/427 [==============================] - 5s 11ms/step - loss: 116603122226298880.0000 - accuracy: 0.7973 - val_loss: 115030786238840832.0000 - val_accuracy: 0.8009\n",
            "Epoch 179/250\n",
            "427/427 [==============================] - 5s 11ms/step - loss: 120045916471164928.0000 - accuracy: 0.7973 - val_loss: 118291748748263424.0000 - val_accuracy: 0.8009\n",
            "Epoch 180/250\n",
            "427/427 [==============================] - 4s 10ms/step - loss: 123697514846093312.0000 - accuracy: 0.7973 - val_loss: 121815090809798656.0000 - val_accuracy: 0.8009\n",
            "Epoch 181/250\n",
            "427/427 [==============================] - 4s 10ms/step - loss: 127429953095467008.0000 - accuracy: 0.7973 - val_loss: 125311907153313792.0000 - val_accuracy: 0.8009\n",
            "Epoch 182/250\n",
            "427/427 [==============================] - 4s 9ms/step - loss: 131008914983485440.0000 - accuracy: 0.7973 - val_loss: 129019486131978240.0000 - val_accuracy: 0.8009\n",
            "Epoch 183/250\n",
            "427/427 [==============================] - 4s 9ms/step - loss: 134836022901997568.0000 - accuracy: 0.7973 - val_loss: 132757516428771328.0000 - val_accuracy: 0.8009\n",
            "Epoch 184/250\n",
            "427/427 [==============================] - 4s 10ms/step - loss: 138761279413157888.0000 - accuracy: 0.7973 - val_loss: 136651479808212992.0000 - val_accuracy: 0.8009\n",
            "Epoch 185/250\n",
            "427/427 [==============================] - 5s 11ms/step - loss: 142654418158878720.0000 - accuracy: 0.7973 - val_loss: 140628542214897664.0000 - val_accuracy: 0.8009\n",
            "Epoch 186/250\n",
            "427/427 [==============================] - 4s 10ms/step - loss: 147006525699784704.0000 - accuracy: 0.7973 - val_loss: 144649378928263168.0000 - val_accuracy: 0.8009\n",
            "Epoch 187/250\n",
            "427/427 [==============================] - 4s 9ms/step - loss: 151067949854097408.0000 - accuracy: 0.7973 - val_loss: 148654556190867456.0000 - val_accuracy: 0.8009\n",
            "Epoch 188/250\n",
            "427/427 [==============================] - 5s 11ms/step - loss: 155244822729326592.0000 - accuracy: 0.7973 - val_loss: 152950073242681344.0000 - val_accuracy: 0.8009\n",
            "Epoch 189/250\n",
            "427/427 [==============================] - 5s 11ms/step - loss: 159742340683005952.0000 - accuracy: 0.7973 - val_loss: 157302610280316928.0000 - val_accuracy: 0.8009\n",
            "Epoch 190/250\n",
            "427/427 [==============================] - 4s 10ms/step - loss: 164118414141423616.0000 - accuracy: 0.7973 - val_loss: 161664733684957184.0000 - val_accuracy: 0.8009\n",
            "Epoch 191/250\n",
            "427/427 [==============================] - 4s 10ms/step - loss: 168738854059114496.0000 - accuracy: 0.7973 - val_loss: 166241845972566016.0000 - val_accuracy: 0.8009\n",
            "Epoch 192/250\n",
            "427/427 [==============================] - 4s 10ms/step - loss: 173242419326746624.0000 - accuracy: 0.7973 - val_loss: 170909874127896576.0000 - val_accuracy: 0.8009\n",
            "Epoch 193/250\n",
            "427/427 [==============================] - 4s 10ms/step - loss: 178472383823216640.0000 - accuracy: 0.7973 - val_loss: 175476730033602560.0000 - val_accuracy: 0.8009\n",
            "Epoch 194/250\n",
            "427/427 [==============================] - 4s 10ms/step - loss: 183120689488723968.0000 - accuracy: 0.7973 - val_loss: 180379864698716160.0000 - val_accuracy: 0.8009\n",
            "Epoch 195/250\n",
            "427/427 [==============================] - 4s 9ms/step - loss: 188585640235892736.0000 - accuracy: 0.7973 - val_loss: 185270372159979520.0000 - val_accuracy: 0.8009\n",
            "Epoch 196/250\n",
            "427/427 [==============================] - 3s 7ms/step - loss: 193209120990429184.0000 - accuracy: 0.7973 - val_loss: 190379321657917440.0000 - val_accuracy: 0.8009\n",
            "Epoch 197/250\n",
            "427/427 [==============================] - 3s 6ms/step - loss: 198898612627832832.0000 - accuracy: 0.7973 - val_loss: 195505107427655680.0000 - val_accuracy: 0.8009\n",
            "Epoch 198/250\n",
            "427/427 [==============================] - 3s 7ms/step - loss: 203923604105068544.0000 - accuracy: 0.7973 - val_loss: 200930544475701248.0000 - val_accuracy: 0.8009\n",
            "Epoch 199/250\n",
            "427/427 [==============================] - 4s 10ms/step - loss: 209620483086221312.0000 - accuracy: 0.7973 - val_loss: 206168944287940608.0000 - val_accuracy: 0.8009\n",
            "Epoch 200/250\n",
            "427/427 [==============================] - 4s 9ms/step - loss: 215034358082306048.0000 - accuracy: 0.7973 - val_loss: 211859655696056320.0000 - val_accuracy: 0.8009\n",
            "Epoch 201/250\n",
            "427/427 [==============================] - 4s 10ms/step - loss: 220821242398113792.0000 - accuracy: 0.7973 - val_loss: 217525902970454016.0000 - val_accuracy: 0.8009\n",
            "Epoch 202/250\n",
            "427/427 [==============================] - 4s 9ms/step - loss: 226760288815284224.0000 - accuracy: 0.7973 - val_loss: 223382176777895936.0000 - val_accuracy: 0.8009\n",
            "Epoch 203/250\n",
            "427/427 [==============================] - 4s 10ms/step - loss: 233372803284336640.0000 - accuracy: 0.7973 - val_loss: 229234052538826752.0000 - val_accuracy: 0.8009\n",
            "Epoch 204/250\n",
            "427/427 [==============================] - 4s 10ms/step - loss: 239135068847603712.0000 - accuracy: 0.7973 - val_loss: 235244120535203840.0000 - val_accuracy: 0.8009\n",
            "Epoch 205/250\n",
            "427/427 [==============================] - 4s 8ms/step - loss: 245203514039468032.0000 - accuracy: 0.7973 - val_loss: 241441500645294080.0000 - val_accuracy: 0.8009\n",
            "Epoch 206/250\n",
            "427/427 [==============================] - 3s 6ms/step - loss: 251690014168055808.0000 - accuracy: 0.7973 - val_loss: 247621872684892160.0000 - val_accuracy: 0.8009\n",
            "Epoch 207/250\n",
            "427/427 [==============================] - 4s 9ms/step - loss: 258462627838033920.0000 - accuracy: 0.7973 - val_loss: 254041543122354176.0000 - val_accuracy: 0.8009\n",
            "Epoch 208/250\n",
            "427/427 [==============================] - 4s 10ms/step - loss: 264979845572722688.0000 - accuracy: 0.7973 - val_loss: 260651549330505728.0000 - val_accuracy: 0.8009\n",
            "Epoch 209/250\n",
            "427/427 [==============================] - 3s 8ms/step - loss: 271860280101699584.0000 - accuracy: 0.7973 - val_loss: 267401348134207488.0000 - val_accuracy: 0.8009\n",
            "Epoch 210/250\n",
            "427/427 [==============================] - 4s 8ms/step - loss: 278661189016223744.0000 - accuracy: 0.7973 - val_loss: 274185695654838272.0000 - val_accuracy: 0.8009\n",
            "Epoch 211/250\n",
            "427/427 [==============================] - 4s 9ms/step - loss: 285945590989193216.0000 - accuracy: 0.7973 - val_loss: 281296907366563840.0000 - val_accuracy: 0.8009\n",
            "Epoch 212/250\n",
            "427/427 [==============================] - 4s 9ms/step - loss: 293562698308780032.0000 - accuracy: 0.7973 - val_loss: 288251404311592960.0000 - val_accuracy: 0.8009\n",
            "Epoch 213/250\n",
            "427/427 [==============================] - 4s 10ms/step - loss: 300475156113915904.0000 - accuracy: 0.7973 - val_loss: 295776977288167424.0000 - val_accuracy: 0.8009\n",
            "Epoch 214/250\n",
            "427/427 [==============================] - 3s 7ms/step - loss: 308053299490193408.0000 - accuracy: 0.7973 - val_loss: 303239019108499456.0000 - val_accuracy: 0.8009\n",
            "Epoch 215/250\n",
            "427/427 [==============================] - 3s 8ms/step - loss: 315953393614979072.0000 - accuracy: 0.7973 - val_loss: 310817025045823488.0000 - val_accuracy: 0.8009\n",
            "Epoch 216/250\n",
            "427/427 [==============================] - 4s 9ms/step - loss: 323960552684519424.0000 - accuracy: 0.7973 - val_loss: 318498041478774784.0000 - val_accuracy: 0.8009\n",
            "Epoch 217/250\n",
            "427/427 [==============================] - 3s 7ms/step - loss: 331560720653090816.0000 - accuracy: 0.7973 - val_loss: 326523583008342016.0000 - val_accuracy: 0.8009\n",
            "Epoch 218/250\n",
            "427/427 [==============================] - 3s 7ms/step - loss: 339789843632488448.0000 - accuracy: 0.7973 - val_loss: 334388286602608640.0000 - val_accuracy: 0.8009\n",
            "Epoch 219/250\n",
            "427/427 [==============================] - 4s 9ms/step - loss: 348315319355310080.0000 - accuracy: 0.7973 - val_loss: 342761479964983296.0000 - val_accuracy: 0.8009\n",
            "Epoch 220/250\n",
            "427/427 [==============================] - 4s 8ms/step - loss: 357175836886958080.0000 - accuracy: 0.7973 - val_loss: 351137422106427392.0000 - val_accuracy: 0.8009\n",
            "Epoch 221/250\n",
            "427/427 [==============================] - 3s 8ms/step - loss: 365798791187529728.0000 - accuracy: 0.7973 - val_loss: 359508485165023232.0000 - val_accuracy: 0.8009\n",
            "Epoch 222/250\n",
            "427/427 [==============================] - 4s 9ms/step - loss: 374759776594165760.0000 - accuracy: 0.7973 - val_loss: 368299321147260928.0000 - val_accuracy: 0.8009\n",
            "Epoch 223/250\n",
            "427/427 [==============================] - 4s 9ms/step - loss: 383501753028444160.0000 - accuracy: 0.7973 - val_loss: 377266697465233408.0000 - val_accuracy: 0.8009\n",
            "Epoch 224/250\n",
            "427/427 [==============================] - 4s 9ms/step - loss: 392734523965571072.0000 - accuracy: 0.7973 - val_loss: 386442912273006592.0000 - val_accuracy: 0.8009\n",
            "Epoch 225/250\n",
            "427/427 [==============================] - 4s 9ms/step - loss: 402261242464436224.0000 - accuracy: 0.7973 - val_loss: 395683551590219776.0000 - val_accuracy: 0.8009\n",
            "Epoch 226/250\n",
            "427/427 [==============================] - 4s 10ms/step - loss: 412158118424739840.0000 - accuracy: 0.7973 - val_loss: 404965731831119872.0000 - val_accuracy: 0.8009\n",
            "Epoch 227/250\n",
            "427/427 [==============================] - 4s 9ms/step - loss: 421966483699007488.0000 - accuracy: 0.7973 - val_loss: 414595151587966976.0000 - val_accuracy: 0.8009\n",
            "Epoch 228/250\n",
            "427/427 [==============================] - 4s 9ms/step - loss: 431408986479132672.0000 - accuracy: 0.7973 - val_loss: 424408567743774720.0000 - val_accuracy: 0.8009\n",
            "Epoch 229/250\n",
            "427/427 [==============================] - 3s 8ms/step - loss: 441795935387779072.0000 - accuracy: 0.7973 - val_loss: 434452262866124800.0000 - val_accuracy: 0.8009\n",
            "Epoch 230/250\n",
            "427/427 [==============================] - 4s 9ms/step - loss: 452487311578365952.0000 - accuracy: 0.7973 - val_loss: 444646006965927936.0000 - val_accuracy: 0.8009\n",
            "Epoch 231/250\n",
            "427/427 [==============================] - 3s 8ms/step - loss: 463183360693370880.0000 - accuracy: 0.7973 - val_loss: 455133251950870528.0000 - val_accuracy: 0.8009\n",
            "Epoch 232/250\n",
            "427/427 [==============================] - 4s 9ms/step - loss: 473946445657931776.0000 - accuracy: 0.7973 - val_loss: 465691621594234880.0000 - val_accuracy: 0.8009\n",
            "Epoch 233/250\n",
            "427/427 [==============================] - 4s 9ms/step - loss: 484431525979357184.0000 - accuracy: 0.7973 - val_loss: 476365783555899392.0000 - val_accuracy: 0.8009\n",
            "Epoch 234/250\n",
            "427/427 [==============================] - 4s 9ms/step - loss: 495464609768013824.0000 - accuracy: 0.7973 - val_loss: 487584135053836288.0000 - val_accuracy: 0.8009\n",
            "Epoch 235/250\n",
            "427/427 [==============================] - 4s 9ms/step - loss: 507587378299273216.0000 - accuracy: 0.7973 - val_loss: 498636494655717376.0000 - val_accuracy: 0.8009\n",
            "Epoch 236/250\n",
            "427/427 [==============================] - 3s 8ms/step - loss: 519485709019512832.0000 - accuracy: 0.7973 - val_loss: 509830931775750144.0000 - val_accuracy: 0.8009\n",
            "Epoch 237/250\n",
            "427/427 [==============================] - 3s 8ms/step - loss: 530973269067563008.0000 - accuracy: 0.7973 - val_loss: 521570211267084288.0000 - val_accuracy: 0.8009\n",
            "Epoch 238/250\n",
            "427/427 [==============================] - 4s 8ms/step - loss: 542681212477505536.0000 - accuracy: 0.7973 - val_loss: 533546229355773952.0000 - val_accuracy: 0.8009\n",
            "Epoch 239/250\n",
            "427/427 [==============================] - 4s 9ms/step - loss: 555621089946894336.0000 - accuracy: 0.7973 - val_loss: 545633813514944512.0000 - val_accuracy: 0.8009\n",
            "Epoch 240/250\n",
            "427/427 [==============================] - 4s 10ms/step - loss: 567540723704922112.0000 - accuracy: 0.7973 - val_loss: 557929171012026368.0000 - val_accuracy: 0.8009\n",
            "Epoch 241/250\n",
            "427/427 [==============================] - 4s 9ms/step - loss: 580574506339270656.0000 - accuracy: 0.7973 - val_loss: 570592108990169088.0000 - val_accuracy: 0.8009\n",
            "Epoch 242/250\n",
            "427/427 [==============================] - 4s 9ms/step - loss: 593809465241763840.0000 - accuracy: 0.7973 - val_loss: 583775184687726592.0000 - val_accuracy: 0.8009\n",
            "Epoch 243/250\n",
            "427/427 [==============================] - 4s 9ms/step - loss: 607730313241559040.0000 - accuracy: 0.7973 - val_loss: 596220488083046400.0000 - val_accuracy: 0.8009\n",
            "Epoch 244/250\n",
            "427/427 [==============================] - 3s 8ms/step - loss: 620420326693535744.0000 - accuracy: 0.7973 - val_loss: 609939575699144704.0000 - val_accuracy: 0.8009\n",
            "Epoch 245/250\n",
            "427/427 [==============================] - 4s 9ms/step - loss: 635046923719409664.0000 - accuracy: 0.7973 - val_loss: 623262426812383232.0000 - val_accuracy: 0.8009\n",
            "Epoch 246/250\n",
            "427/427 [==============================] - 4s 9ms/step - loss: 648279683598647296.0000 - accuracy: 0.7973 - val_loss: 637339199304892416.0000 - val_accuracy: 0.8009\n",
            "Epoch 247/250\n",
            "427/427 [==============================] - 4s 8ms/step - loss: 663357905025630208.0000 - accuracy: 0.7973 - val_loss: 651453423912222720.0000 - val_accuracy: 0.8009\n",
            "Epoch 248/250\n",
            "427/427 [==============================] - 4s 9ms/step - loss: 677429248679477248.0000 - accuracy: 0.7973 - val_loss: 665432889625673728.0000 - val_accuracy: 0.8009\n",
            "Epoch 249/250\n",
            "427/427 [==============================] - 4s 9ms/step - loss: 692855946572988416.0000 - accuracy: 0.7973 - val_loss: 679623667730087936.0000 - val_accuracy: 0.8009\n",
            "Epoch 250/250\n",
            "427/427 [==============================] - 4s 9ms/step - loss: 707494157190430720.0000 - accuracy: 0.7973 - val_loss: 694853072005890048.0000 - val_accuracy: 0.8009\n"
          ]
        }
      ],
      "source": [
        "model.compile(optimizer='adam',\n",
        "    #loss='binary_crossentropy',\n",
        "    loss='categorical_crossentropy',\n",
        "    metrics=['accuracy'],)\n",
        "\n",
        "#model.compile(loss='binary_crossentropy', optimizer='adam', metrics=['accuracy'])\n",
        "\n",
        "history = model.fit(X_train, y_train,\n",
        "                    batch_size=batch_size,\n",
        "                    epochs=epochs,\n",
        "                    verbose=1,\n",
        "                    validation_split=0.2)"
      ]
    },
    {
      "cell_type": "code",
      "execution_count": 236,
      "metadata": {},
      "outputs": [
        {
          "name": "stdout",
          "output_type": "stream",
          "text": [
            "625/625 [==============================] - 4s 7ms/step - loss: 700153405246537728.0000 - accuracy: 0.7993\n",
            "Test score: 7.001534052465377e+17\n",
            "Test accuracy: 0.7993000149726868\n"
          ]
        }
      ],
      "source": [
        "score = model.evaluate(X_test, y_test, verbose = 1)\n",
        "print('Test score:', score[0])\n",
        "print('Test accuracy:', score[1])"
      ]
    },
    {
      "cell_type": "code",
      "execution_count": null,
      "metadata": {},
      "outputs": [],
      "source": []
    },
    {
      "cell_type": "code",
      "execution_count": 119,
      "metadata": {
        "colab": {
          "base_uri": "https://localhost:8080/"
        },
        "id": "igDEdGmPwejR",
        "outputId": "a67d42e5-c216-40fe-eae7-56c2384cdfd5"
      },
      "outputs": [
        {
          "name": "stdout",
          "output_type": "stream",
          "text": [
            "Note: you may need to restart the kernel to use updated packages.Requirement already satisfied: fastapi in c:\\users\\hazem\\appdata\\local\\programs\\python\\python39\\lib\\site-packages (0.103.2)\n",
            "Requirement already satisfied: pydantic!=1.8,!=1.8.1,!=2.0.0,!=2.0.1,!=2.1.0,<3.0.0,>=1.7.4 in c:\\users\\hazem\\appdata\\local\\programs\\python\\python39\\lib\\site-packages (from fastapi) (2.4.2)\n",
            "Requirement already satisfied: typing-extensions>=4.5.0 in c:\\users\\hazem\\appdata\\local\\programs\\python\\python39\\lib\\site-packages (from fastapi) (4.8.0)\n",
            "Requirement already satisfied: starlette<0.28.0,>=0.27.0 in c:\\users\\hazem\\appdata\\local\\programs\\python\\python39\\lib\\site-packages (from fastapi) (0.27.0)\n",
            "Requirement already satisfied: anyio<4.0.0,>=3.7.1 in c:\\users\\hazem\\appdata\\local\\programs\\python\\python39\\lib\\site-packages (from fastapi) (3.7.1)\n",
            "Requirement already satisfied: sniffio>=1.1 in c:\\users\\hazem\\appdata\\local\\programs\\python\\python39\\lib\\site-packages (from anyio<4.0.0,>=3.7.1->fastapi) (1.3.0)\n",
            "Requirement already satisfied: idna>=2.8 in c:\\users\\hazem\\appdata\\local\\programs\\python\\python39\\lib\\site-packages (from anyio<4.0.0,>=3.7.1->fastapi) (3.4)\n",
            "Requirement already satisfied: exceptiongroup in c:\\users\\hazem\\appdata\\local\\programs\\python\\python39\\lib\\site-packages (from anyio<4.0.0,>=3.7.1->fastapi) (1.1.2)\n",
            "Requirement already satisfied: annotated-types>=0.4.0 in c:\\users\\hazem\\appdata\\local\\programs\\python\\python39\\lib\\site-packages (from pydantic!=1.8,!=1.8.1,!=2.0.0,!=2.0.1,!=2.1.0,<3.0.0,>=1.7.4->fastapi) (0.5.0)\n",
            "Requirement already satisfied: pydantic-core==2.10.1 in c:\\users\\hazem\\appdata\\local\\programs\\python\\python39\\lib\\site-packages (from pydantic!=1.8,!=1.8.1,!=2.0.0,!=2.0.1,!=2.1.0,<3.0.0,>=1.7.4->fastapi) (2.10.1)\n",
            "\n"
          ]
        },
        {
          "name": "stderr",
          "output_type": "stream",
          "text": [
            "WARNING: You are using pip version 22.0.4; however, version 23.2.1 is available.\n",
            "You should consider upgrading via the 'c:\\Users\\Hazem\\AppData\\Local\\Programs\\Python\\Python39\\python.exe -m pip install --upgrade pip' command.\n"
          ]
        }
      ],
      "source": [
        "pip install fastapi"
      ]
    },
    {
      "cell_type": "code",
      "execution_count": 120,
      "metadata": {
        "colab": {
          "base_uri": "https://localhost:8080/"
        },
        "id": "TC76g5KJsnoi",
        "outputId": "37da133a-6f8b-43bc-8d40-c0577ac4ed03"
      },
      "outputs": [
        {
          "name": "stdout",
          "output_type": "stream",
          "text": [
            "Requirement already satisfied: fastapi[all] in c:\\users\\hazem\\appdata\\local\\programs\\python\\python39\\lib\\site-packages (0.103.2)Note: you may need to restart the kernel to use updated packages.\n"
          ]
        },
        {
          "name": "stderr",
          "output_type": "stream",
          "text": [
            "WARNING: You are using pip version 22.0.4; however, version 23.2.1 is available.\n",
            "You should consider upgrading via the 'c:\\Users\\Hazem\\AppData\\Local\\Programs\\Python\\Python39\\python.exe -m pip install --upgrade pip' command.\n"
          ]
        },
        {
          "name": "stdout",
          "output_type": "stream",
          "text": [
            "\n",
            "Requirement already satisfied: typing-extensions>=4.5.0 in c:\\users\\hazem\\appdata\\local\\programs\\python\\python39\\lib\\site-packages (from fastapi[all]) (4.8.0)\n",
            "Requirement already satisfied: starlette<0.28.0,>=0.27.0 in c:\\users\\hazem\\appdata\\local\\programs\\python\\python39\\lib\\site-packages (from fastapi[all]) (0.27.0)\n",
            "Requirement already satisfied: anyio<4.0.0,>=3.7.1 in c:\\users\\hazem\\appdata\\local\\programs\\python\\python39\\lib\\site-packages (from fastapi[all]) (3.7.1)\n",
            "Requirement already satisfied: pydantic!=1.8,!=1.8.1,!=2.0.0,!=2.0.1,!=2.1.0,<3.0.0,>=1.7.4 in c:\\users\\hazem\\appdata\\local\\programs\\python\\python39\\lib\\site-packages (from fastapi[all]) (2.4.2)\n",
            "Requirement already satisfied: pyyaml>=5.3.1 in c:\\users\\hazem\\appdata\\local\\programs\\python\\python39\\lib\\site-packages (from fastapi[all]) (6.0)\n",
            "Requirement already satisfied: uvicorn[standard]>=0.12.0 in c:\\users\\hazem\\appdata\\local\\programs\\python\\python39\\lib\\site-packages (from fastapi[all]) (0.23.2)\n",
            "Requirement already satisfied: jinja2>=2.11.2 in c:\\users\\hazem\\appdata\\local\\programs\\python\\python39\\lib\\site-packages (from fastapi[all]) (3.1.2)\n",
            "Requirement already satisfied: pydantic-settings>=2.0.0 in c:\\users\\hazem\\appdata\\local\\programs\\python\\python39\\lib\\site-packages (from fastapi[all]) (2.0.3)\n",
            "Requirement already satisfied: httpx>=0.23.0 in c:\\users\\hazem\\appdata\\local\\programs\\python\\python39\\lib\\site-packages (from fastapi[all]) (0.25.0)\n",
            "Requirement already satisfied: pydantic-extra-types>=2.0.0 in c:\\users\\hazem\\appdata\\local\\programs\\python\\python39\\lib\\site-packages (from fastapi[all]) (2.1.0)\n",
            "Requirement already satisfied: email-validator>=2.0.0 in c:\\users\\hazem\\appdata\\local\\programs\\python\\python39\\lib\\site-packages (from fastapi[all]) (2.0.0.post2)\n",
            "Requirement already satisfied: ujson!=4.0.2,!=4.1.0,!=4.2.0,!=4.3.0,!=5.0.0,!=5.1.0,>=4.0.1 in c:\\users\\hazem\\appdata\\local\\programs\\python\\python39\\lib\\site-packages (from fastapi[all]) (5.8.0)\n",
            "Requirement already satisfied: python-multipart>=0.0.5 in c:\\users\\hazem\\appdata\\local\\programs\\python\\python39\\lib\\site-packages (from fastapi[all]) (0.0.6)\n",
            "Requirement already satisfied: itsdangerous>=1.1.0 in c:\\users\\hazem\\appdata\\local\\programs\\python\\python39\\lib\\site-packages (from fastapi[all]) (2.1.2)\n",
            "Requirement already satisfied: orjson>=3.2.1 in c:\\users\\hazem\\appdata\\local\\programs\\python\\python39\\lib\\site-packages (from fastapi[all]) (3.9.7)\n",
            "Requirement already satisfied: sniffio>=1.1 in c:\\users\\hazem\\appdata\\local\\programs\\python\\python39\\lib\\site-packages (from anyio<4.0.0,>=3.7.1->fastapi[all]) (1.3.0)\n",
            "Requirement already satisfied: idna>=2.8 in c:\\users\\hazem\\appdata\\local\\programs\\python\\python39\\lib\\site-packages (from anyio<4.0.0,>=3.7.1->fastapi[all]) (3.4)\n",
            "Requirement already satisfied: exceptiongroup in c:\\users\\hazem\\appdata\\local\\programs\\python\\python39\\lib\\site-packages (from anyio<4.0.0,>=3.7.1->fastapi[all]) (1.1.2)\n",
            "Requirement already satisfied: dnspython>=2.0.0 in c:\\users\\hazem\\appdata\\local\\programs\\python\\python39\\lib\\site-packages (from email-validator>=2.0.0->fastapi[all]) (2.3.0)\n",
            "Requirement already satisfied: certifi in c:\\users\\hazem\\appdata\\local\\programs\\python\\python39\\lib\\site-packages (from httpx>=0.23.0->fastapi[all]) (2022.12.7)\n",
            "Requirement already satisfied: httpcore<0.19.0,>=0.18.0 in c:\\users\\hazem\\appdata\\local\\programs\\python\\python39\\lib\\site-packages (from httpx>=0.23.0->fastapi[all]) (0.18.0)\n",
            "Requirement already satisfied: MarkupSafe>=2.0 in c:\\users\\hazem\\appdata\\local\\programs\\python\\python39\\lib\\site-packages (from jinja2>=2.11.2->fastapi[all]) (2.1.3)\n",
            "Requirement already satisfied: pydantic-core==2.10.1 in c:\\users\\hazem\\appdata\\local\\programs\\python\\python39\\lib\\site-packages (from pydantic!=1.8,!=1.8.1,!=2.0.0,!=2.0.1,!=2.1.0,<3.0.0,>=1.7.4->fastapi[all]) (2.10.1)\n",
            "Requirement already satisfied: annotated-types>=0.4.0 in c:\\users\\hazem\\appdata\\local\\programs\\python\\python39\\lib\\site-packages (from pydantic!=1.8,!=1.8.1,!=2.0.0,!=2.0.1,!=2.1.0,<3.0.0,>=1.7.4->fastapi[all]) (0.5.0)\n",
            "Requirement already satisfied: python-dotenv>=0.21.0 in c:\\users\\hazem\\appdata\\local\\programs\\python\\python39\\lib\\site-packages (from pydantic-settings>=2.0.0->fastapi[all]) (1.0.0)\n",
            "Requirement already satisfied: h11>=0.8 in c:\\users\\hazem\\appdata\\local\\programs\\python\\python39\\lib\\site-packages (from uvicorn[standard]>=0.12.0->fastapi[all]) (0.14.0)\n",
            "Requirement already satisfied: click>=7.0 in c:\\users\\hazem\\appdata\\local\\programs\\python\\python39\\lib\\site-packages (from uvicorn[standard]>=0.12.0->fastapi[all]) (8.1.3)\n",
            "Requirement already satisfied: colorama>=0.4 in c:\\users\\hazem\\appdata\\local\\programs\\python\\python39\\lib\\site-packages (from uvicorn[standard]>=0.12.0->fastapi[all]) (0.4.4)\n",
            "Requirement already satisfied: websockets>=10.4 in c:\\users\\hazem\\appdata\\local\\programs\\python\\python39\\lib\\site-packages (from uvicorn[standard]>=0.12.0->fastapi[all]) (11.0.3)\n",
            "Requirement already satisfied: httptools>=0.5.0 in c:\\users\\hazem\\appdata\\local\\programs\\python\\python39\\lib\\site-packages (from uvicorn[standard]>=0.12.0->fastapi[all]) (0.6.0)\n",
            "Requirement already satisfied: watchfiles>=0.13 in c:\\users\\hazem\\appdata\\local\\programs\\python\\python39\\lib\\site-packages (from uvicorn[standard]>=0.12.0->fastapi[all]) (0.20.0)\n"
          ]
        }
      ],
      "source": [
        "pip install fastapi[all]"
      ]
    },
    {
      "cell_type": "code",
      "execution_count": 121,
      "metadata": {
        "colab": {
          "base_uri": "https://localhost:8080/"
        },
        "id": "7dfKF3yTt5-3",
        "outputId": "b81cb7a1-aa10-41a0-a2a6-8ebade242690"
      },
      "outputs": [
        {
          "name": "stdout",
          "output_type": "stream",
          "text": [
            "Requirement already satisfied: uvicorn in c:\\users\\hazem\\appdata\\local\\programs\\python\\python39\\lib\\site-packages (0.23.2)\n",
            "Requirement already satisfied: typing-extensions>=4.0 in c:\\users\\hazem\\appdata\\local\\programs\\python\\python39\\lib\\site-packages (from uvicorn) (4.8.0)\n",
            "Requirement already satisfied: click>=7.0 in c:\\users\\hazem\\appdata\\local\\programs\\python\\python39\\lib\\site-packages (from uvicorn) (8.1.3)\n",
            "Requirement already satisfied: h11>=0.8 in c:\\users\\hazem\\appdata\\local\\programs\\python\\python39\\lib\\site-packages (from uvicorn) (0.14.0)\n",
            "Requirement already satisfied: colorama in c:\\users\\hazem\\appdata\\local\\programs\\python\\python39\\lib\\site-packages (from click>=7.0->uvicorn) (0.4.4)\n",
            "Note: you may need to restart the kernel to use updated packages.\n"
          ]
        },
        {
          "name": "stderr",
          "output_type": "stream",
          "text": [
            "WARNING: You are using pip version 22.0.4; however, version 23.2.1 is available.\n",
            "You should consider upgrading via the 'c:\\Users\\Hazem\\AppData\\Local\\Programs\\Python\\Python39\\python.exe -m pip install --upgrade pip' command.\n"
          ]
        }
      ],
      "source": [
        "pip install uvicorn"
      ]
    },
    {
      "cell_type": "code",
      "execution_count": 122,
      "metadata": {},
      "outputs": [
        {
          "name": "stdout",
          "output_type": "stream",
          "text": [
            "Requirement already satisfied: fastapi in c:\\users\\hazem\\appdata\\local\\programs\\python\\python39\\lib\\site-packages (0.103.2)Note: you may need to restart the kernel to use updated packages.\n"
          ]
        },
        {
          "name": "stderr",
          "output_type": "stream",
          "text": [
            "WARNING: You are using pip version 22.0.4; however, version 23.2.1 is available.\n",
            "You should consider upgrading via the 'c:\\Users\\Hazem\\AppData\\Local\\Programs\\Python\\Python39\\python.exe -m pip install --upgrade pip' command.\n"
          ]
        },
        {
          "name": "stdout",
          "output_type": "stream",
          "text": [
            "\n",
            "Requirement already satisfied: uvicorn in c:\\users\\hazem\\appdata\\local\\programs\\python\\python39\\lib\\site-packages (0.23.2)\n",
            "Requirement already satisfied: torch in c:\\users\\hazem\\appdata\\local\\programs\\python\\python39\\lib\\site-packages (2.1.0)\n",
            "Requirement already satisfied: starlette<0.28.0,>=0.27.0 in c:\\users\\hazem\\appdata\\local\\programs\\python\\python39\\lib\\site-packages (from fastapi) (0.27.0)\n",
            "Requirement already satisfied: pydantic!=1.8,!=1.8.1,!=2.0.0,!=2.0.1,!=2.1.0,<3.0.0,>=1.7.4 in c:\\users\\hazem\\appdata\\local\\programs\\python\\python39\\lib\\site-packages (from fastapi) (2.4.2)\n",
            "Requirement already satisfied: anyio<4.0.0,>=3.7.1 in c:\\users\\hazem\\appdata\\local\\programs\\python\\python39\\lib\\site-packages (from fastapi) (3.7.1)\n",
            "Requirement already satisfied: typing-extensions>=4.5.0 in c:\\users\\hazem\\appdata\\local\\programs\\python\\python39\\lib\\site-packages (from fastapi) (4.8.0)\n",
            "Requirement already satisfied: click>=7.0 in c:\\users\\hazem\\appdata\\local\\programs\\python\\python39\\lib\\site-packages (from uvicorn) (8.1.3)\n",
            "Requirement already satisfied: h11>=0.8 in c:\\users\\hazem\\appdata\\local\\programs\\python\\python39\\lib\\site-packages (from uvicorn) (0.14.0)\n",
            "Requirement already satisfied: filelock in c:\\users\\hazem\\appdata\\local\\programs\\python\\python39\\lib\\site-packages (from torch) (3.11.0)\n",
            "Requirement already satisfied: jinja2 in c:\\users\\hazem\\appdata\\local\\programs\\python\\python39\\lib\\site-packages (from torch) (3.1.2)\n",
            "Requirement already satisfied: fsspec in c:\\users\\hazem\\appdata\\local\\programs\\python\\python39\\lib\\site-packages (from torch) (2023.9.2)\n",
            "Requirement already satisfied: networkx in c:\\users\\hazem\\appdata\\local\\programs\\python\\python39\\lib\\site-packages (from torch) (3.1)\n",
            "Requirement already satisfied: sympy in c:\\users\\hazem\\appdata\\local\\programs\\python\\python39\\lib\\site-packages (from torch) (1.12)\n",
            "Requirement already satisfied: idna>=2.8 in c:\\users\\hazem\\appdata\\local\\programs\\python\\python39\\lib\\site-packages (from anyio<4.0.0,>=3.7.1->fastapi) (3.4)\n",
            "Requirement already satisfied: sniffio>=1.1 in c:\\users\\hazem\\appdata\\local\\programs\\python\\python39\\lib\\site-packages (from anyio<4.0.0,>=3.7.1->fastapi) (1.3.0)\n",
            "Requirement already satisfied: exceptiongroup in c:\\users\\hazem\\appdata\\local\\programs\\python\\python39\\lib\\site-packages (from anyio<4.0.0,>=3.7.1->fastapi) (1.1.2)\n",
            "Requirement already satisfied: colorama in c:\\users\\hazem\\appdata\\local\\programs\\python\\python39\\lib\\site-packages (from click>=7.0->uvicorn) (0.4.4)\n",
            "Requirement already satisfied: pydantic-core==2.10.1 in c:\\users\\hazem\\appdata\\local\\programs\\python\\python39\\lib\\site-packages (from pydantic!=1.8,!=1.8.1,!=2.0.0,!=2.0.1,!=2.1.0,<3.0.0,>=1.7.4->fastapi) (2.10.1)\n",
            "Requirement already satisfied: annotated-types>=0.4.0 in c:\\users\\hazem\\appdata\\local\\programs\\python\\python39\\lib\\site-packages (from pydantic!=1.8,!=1.8.1,!=2.0.0,!=2.0.1,!=2.1.0,<3.0.0,>=1.7.4->fastapi) (0.5.0)\n",
            "Requirement already satisfied: MarkupSafe>=2.0 in c:\\users\\hazem\\appdata\\local\\programs\\python\\python39\\lib\\site-packages (from jinja2->torch) (2.1.3)\n",
            "Requirement already satisfied: mpmath>=0.19 in c:\\users\\hazem\\appdata\\local\\programs\\python\\python39\\lib\\site-packages (from sympy->torch) (1.3.0)\n"
          ]
        }
      ],
      "source": [
        "pip install fastapi uvicorn torch"
      ]
    },
    {
      "cell_type": "code",
      "execution_count": 123,
      "metadata": {
        "colab": {
          "base_uri": "https://localhost:8080/",
          "height": 494
        },
        "id": "fJNrQ7j1swsf",
        "outputId": "61234f0b-6c85-49db-e020-3c5e935197ab"
      },
      "outputs": [],
      "source": [
        "from fastapi import FastAPI\n",
        "from uvicorn import Config, Server"
      ]
    },
    {
      "cell_type": "code",
      "execution_count": 124,
      "metadata": {},
      "outputs": [],
      "source": [
        "import torch\n",
        "\n"
      ]
    },
    {
      "cell_type": "code",
      "execution_count": 125,
      "metadata": {},
      "outputs": [
        {
          "name": "stdout",
          "output_type": "stream",
          "text": [
            "Requirement already satisfied: torchvision in c:\\users\\hazem\\appdata\\local\\programs\\python\\python39\\lib\\site-packages (0.16.0)\n",
            "Requirement already satisfied: torch==2.1.0 in c:\\users\\hazem\\appdata\\local\\programs\\python\\python39\\lib\\site-packages (from torchvision) (2.1.0)\n",
            "Requirement already satisfied: requests in c:\\users\\hazem\\appdata\\local\\programs\\python\\python39\\lib\\site-packages (from torchvision) (2.31.0)\n",
            "Requirement already satisfied: numpy in c:\\users\\hazem\\appdata\\local\\programs\\python\\python39\\lib\\site-packages (from torchvision) (1.22.3)\n",
            "Requirement already satisfied: pillow!=8.3.*,>=5.3.0 in c:\\users\\hazem\\appdata\\local\\programs\\python\\python39\\lib\\site-packages (from torchvision) (9.1.0)\n",
            "Requirement already satisfied: jinja2 in c:\\users\\hazem\\appdata\\local\\programs\\python\\python39\\lib\\site-packages (from torch==2.1.0->torchvision) (3.1.2)\n",
            "Requirement already satisfied: typing-extensions in c:\\users\\hazem\\appdata\\local\\programs\\python\\python39\\lib\\site-packages (from torch==2.1.0->torchvision) (4.8.0)\n",
            "Requirement already satisfied: filelock in c:\\users\\hazem\\appdata\\local\\programs\\python\\python39\\lib\\site-packages (from torch==2.1.0->torchvision) (3.11.0)\n",
            "Requirement already satisfied: sympy in c:\\users\\hazem\\appdata\\local\\programs\\python\\python39\\lib\\site-packages (from torch==2.1.0->torchvision) (1.12)\n",
            "Requirement already satisfied: networkx in c:\\users\\hazem\\appdata\\local\\programs\\python\\python39\\lib\\site-packages (from torch==2.1.0->torchvision) (3.1)\n",
            "Requirement already satisfied: fsspec in c:\\users\\hazem\\appdata\\local\\programs\\python\\python39\\lib\\site-packages (from torch==2.1.0->torchvision) (2023.9.2)\n",
            "Requirement already satisfied: certifi>=2017.4.17 in c:\\users\\hazem\\appdata\\local\\programs\\python\\python39\\lib\\site-packages (from requests->torchvision) (2022.12.7)\n",
            "Requirement already satisfied: urllib3<3,>=1.21.1 in c:\\users\\hazem\\appdata\\local\\programs\\python\\python39\\lib\\site-packages (from requests->torchvision) (1.26.15)\n",
            "Requirement already satisfied: charset-normalizer<4,>=2 in c:\\users\\hazem\\appdata\\local\\programs\\python\\python39\\lib\\site-packages (from requests->torchvision) (3.1.0)\n",
            "Requirement already satisfied: idna<4,>=2.5 in c:\\users\\hazem\\appdata\\local\\programs\\python\\python39\\lib\\site-packages (from requests->torchvision) (3.4)\n",
            "Requirement already satisfied: MarkupSafe>=2.0 in c:\\users\\hazem\\appdata\\local\\programs\\python\\python39\\lib\\site-packages (from jinja2->torch==2.1.0->torchvision) (2.1.3)\n",
            "Requirement already satisfied: mpmath>=0.19 in c:\\users\\hazem\\appdata\\local\\programs\\python\\python39\\lib\\site-packages (from sympy->torch==2.1.0->torchvision) (1.3.0)\n",
            "Note: you may need to restart the kernel to use updated packages.\n"
          ]
        },
        {
          "name": "stderr",
          "output_type": "stream",
          "text": [
            "WARNING: You are using pip version 22.0.4; however, version 23.2.1 is available.\n",
            "You should consider upgrading via the 'c:\\Users\\Hazem\\AppData\\Local\\Programs\\Python\\Python39\\python.exe -m pip install --upgrade pip' command.\n"
          ]
        }
      ],
      "source": [
        "pip install torchvision"
      ]
    },
    {
      "cell_type": "code",
      "execution_count": 126,
      "metadata": {},
      "outputs": [],
      "source": [
        "from torchvision import transforms"
      ]
    },
    {
      "cell_type": "code",
      "execution_count": null,
      "metadata": {
        "colab": {
          "base_uri": "https://localhost:8080/",
          "height": 245
        },
        "id": "nL3f-EGHr6wb",
        "outputId": "a574a498-7eef-48d9-e45f-f60daf5f58ff"
      },
      "outputs": [],
      "source": [
        "# app = FastAPI()\n",
        "\n",
        "# @app.get(\"/\")\n",
        "# async def root():\n",
        "#     return {\"IsSwimmable_status\": \"yes\"}\n",
        "\n",
        "# config = Config(app)\n",
        "# server = Server(config=config)\n",
        "# #await server.serve()\n",
        "\n",
        "# import asyncio\n",
        "# loop = asyncio.get_event_loop()\n",
        "# loop.create_task(server.serve())"
      ]
    },
    {
      "cell_type": "code",
      "execution_count": 127,
      "metadata": {
        "id": "LkSrIMx-si0E"
      },
      "outputs": [
        {
          "data": {
            "text/plain": [
              "'import requests\\n\\nprint(requests.get(\"http://127.0.0.1:8000\").json())'"
            ]
          },
          "execution_count": 127,
          "metadata": {},
          "output_type": "execute_result"
        }
      ],
      "source": [
        "\"\"\"import requests\n",
        "\n",
        "print(requests.get(\"http://127.0.0.1:8000\").json())\"\"\""
      ]
    },
    {
      "cell_type": "code",
      "execution_count": 128,
      "metadata": {},
      "outputs": [
        {
          "data": {
            "text/plain": [
              "'from sklearn.metrics import accuracy_score\\nfrom sklearn.ensemble import RandomForestClassifier\\n\\ndtc = RandomForestClassifier()\\ndtc.fit(X_train, y_train)\\n\\ny_pred = dtc.predict(X_test)\\n\\naccuracy = accuracy_score(y_test, y_pred)\\nprint(\\'Accuracy:\\', accuracy*100,\"%\")\\n\\n\\nfrom fastapi import FastAPI\\nfrom uvicorn import Config, Server\\n\\napp = FastAPI()\\n\\n@app.get(\"/\")\\nasync def root():\\n    return {\"message\": \"mohseeeen\"}\\n\\nconfig = Config(app)\\nserver = Server(config=config)\\n#await server.serve()\\n\\nimport asyncio\\nloop = asyncio.get_event_loop()\\nloop.create_task(server.serve())\\n'"
            ]
          },
          "execution_count": 128,
          "metadata": {},
          "output_type": "execute_result"
        }
      ],
      "source": [
        "\"\"\"from sklearn.metrics import accuracy_score\n",
        "from sklearn.ensemble import RandomForestClassifier\n",
        "\n",
        "dtc = RandomForestClassifier()\n",
        "dtc.fit(X_train, y_train)\n",
        "\n",
        "y_pred = dtc.predict(X_test)\n",
        "\n",
        "accuracy = accuracy_score(y_test, y_pred)\n",
        "print('Accuracy:', accuracy*100,\"%\")\n",
        "\n",
        "\n",
        "from fastapi import FastAPI\n",
        "from uvicorn import Config, Server\n",
        "\n",
        "app = FastAPI()\n",
        "\n",
        "@app.get(\"/\")\n",
        "async def root():\n",
        "    return {\"message\": \"mohseeeen\"}\n",
        "\n",
        "config = Config(app)\n",
        "server = Server(config=config)\n",
        "#await server.serve()\n",
        "\n",
        "import asyncio\n",
        "loop = asyncio.get_event_loop()\n",
        "loop.create_task(server.serve())\n",
        "\"\"\""
      ]
    },
    {
      "cell_type": "code",
      "execution_count": 129,
      "metadata": {},
      "outputs": [
        {
          "ename": "NameError",
          "evalue": "name 'app' is not defined",
          "output_type": "error",
          "traceback": [
            "\u001b[1;31m---------------------------------------------------------------------------\u001b[0m",
            "\u001b[1;31mNameError\u001b[0m                                 Traceback (most recent call last)",
            "\u001b[1;32mc:\\Users\\Hazem\\Desktop\\New folder (4)\\Untitled18.ipynb Cell 52\u001b[0m line \u001b[0;36m<cell line: 18>\u001b[1;34m()\u001b[0m\n\u001b[0;32m     <a href='vscode-notebook-cell:/c%3A/Users/Hazem/Desktop/New%20folder%20%284%29/Untitled18.ipynb#X50sZmlsZQ%3D%3D?line=14'>15</a>\u001b[0m \u001b[39mwith\u001b[39;00m \u001b[39mopen\u001b[39m(\u001b[39m'\u001b[39m\u001b[39mdod.pkl\u001b[39m\u001b[39m'\u001b[39m,\u001b[39m'\u001b[39m\u001b[39mrb\u001b[39m\u001b[39m'\u001b[39m)\u001b[39mas\u001b[39;00m f:\n\u001b[0;32m     <a href='vscode-notebook-cell:/c%3A/Users/Hazem/Desktop/New%20folder%20%284%29/Untitled18.ipynb#X50sZmlsZQ%3D%3D?line=15'>16</a>\u001b[0m     mm\u001b[39m=\u001b[39mpickle\u001b[39m.\u001b[39mload(f)\n\u001b[1;32m---> <a href='vscode-notebook-cell:/c%3A/Users/Hazem/Desktop/New%20folder%20%284%29/Untitled18.ipynb#X50sZmlsZQ%3D%3D?line=17'>18</a>\u001b[0m \u001b[39m@app\u001b[39m\u001b[39m.\u001b[39mpost(\u001b[39m\"\u001b[39m\u001b[39m/\u001b[39m\u001b[39m\"\u001b[39m)\n\u001b[0;32m     <a href='vscode-notebook-cell:/c%3A/Users/Hazem/Desktop/New%20folder%20%284%29/Untitled18.ipynb#X50sZmlsZQ%3D%3D?line=18'>19</a>\u001b[0m \u001b[39masync\u001b[39;00m \u001b[39mdef\u001b[39;00m \u001b[39mroot\u001b[39m(LocationInput:PredictResponse):\n\u001b[0;32m     <a href='vscode-notebook-cell:/c%3A/Users/Hazem/Desktop/New%20folder%20%284%29/Untitled18.ipynb#X50sZmlsZQ%3D%3D?line=19'>20</a>\u001b[0m     dd\u001b[39m=\u001b[39mpd\u001b[39m.\u001b[39mDataFrame([LocationInput\u001b[39m.\u001b[39mdict()\u001b[39m.\u001b[39mvalues()], columns\u001b[39m=\u001b[39mitLocationInputems\u001b[39m.\u001b[39mdict()\u001b[39m.\u001b[39mkeys())\n\u001b[0;32m     <a href='vscode-notebook-cell:/c%3A/Users/Hazem/Desktop/New%20folder%20%284%29/Untitled18.ipynb#X50sZmlsZQ%3D%3D?line=20'>21</a>\u001b[0m     yhat \u001b[39m=\u001b[39m mm\u001b[39m.\u001b[39mpredict(dd)\n",
            "\u001b[1;31mNameError\u001b[0m: name 'app' is not defined"
          ]
        }
      ],
      "source": [
        "# from pydantic import BaseModel\n",
        "# from fastapi import FastAPI\n",
        "# from pydantic import BaseModel\n",
        "\n",
        "# class LocationInput(BaseModel):\n",
        "#     Area: str\n",
        "   \n",
        "\n",
        "# class PredictResponse(BaseModel):\n",
        "#     waterQuality: str\n",
        "#     source : str\n",
        "#     drinkable: str\n",
        "#     swimmable: str\n",
        "\n",
        "# with open('dod.pkl','rb')as f:\n",
        "#     mm=pickle.load(f)\n",
        "\n",
        "# @app.post(\"/\")\n",
        "# async def root(LocationInput:PredictResponse):\n",
        "#     dd=pd.DataFrame([LocationInput.dict().values()], columns=itLocationInputems.dict().keys())\n",
        "#     yhat = mm.predict(dd)\n",
        "#     return {\"prediction\":int(yhat)}\n",
        "\n",
        "\n",
        "# # @app.post(\"/get_water_quality\", response_model=PredictResponse)\n",
        "# # def predict(input:LocationInput):\n",
        "# #     '''\n",
        "# #     1. Extract input\n",
        "# #     2. preprocess input\n",
        "# #     3. predict\n",
        "# #     4. return json object\n",
        "# #     '''\n",
        "# #     Area = input.Area\n",
        "# #     predict = \"good\"\n",
        "# #     return {\"waterQuality\": predict}"
      ]
    },
    {
      "cell_type": "code",
      "execution_count": 134,
      "metadata": {},
      "outputs": [],
      "source": [
        "# from fastapi import FastAPI\n",
        "# from uvicorn import Config, Server\n",
        "# import uvicorn\n",
        "\n",
        "\n",
        "# \"if error message\"\n",
        "# \"asyncio.run() cannot be called from a running event loop\"\n",
        "# # import nest_asyncio\n",
        "# # nest_asyncio.apply()\n",
        "\n",
        "\n",
        "# app = FastAPI()\n",
        "\n",
        "# @app.get(\"/\")\n",
        "# async def root():\n",
        "#     return {\"message\": \"mohseeeen\"}\n",
        "\n",
        "# # config = Config(app)\n",
        "# # server = Server(config=config)\n",
        "# #await server.serve()\n",
        "\n",
        "# # import asyncio\n",
        "# # loop = asyncio.get_event_loop()\n",
        "# # loop.create_task(server.serve())\n",
        "# from pydantic import BaseModel\n",
        "\n",
        "\n",
        "# class LocationInput(BaseModel):\n",
        "#     Area: str\n",
        "   \n",
        "# class PredictResponse(BaseModel):\n",
        "#     waterQuality: str\n",
        "#     source : str\n",
        "#     drinkable: str\n",
        "#     swimmable: str\n",
        "\n",
        "\n",
        "# @app.post(\"/get_water_quality\", response_model=PredictResponse)\n",
        "# def predict(input:LocationInput):\n",
        "#     '''\n",
        "#     1. Extract input\n",
        "#     2. preprocess input\n",
        "#     3. predict\n",
        "#     4. return json object\n",
        "#     '''\n",
        "#     lat = input.lat\n",
        "#     lon = input.lon\n",
        "#     predict = \"good\"\n",
        "#     return {\"waterQuality\": predict}\n",
        "\n",
        "# def main():\n",
        "#     uvicorn.run(app, host='127.0.0.2', port=8000)\n",
        "\n",
        "# await main()"
      ]
    },
    {
      "cell_type": "code",
      "execution_count": 135,
      "metadata": {},
      "outputs": [],
      "source": [
        "################################code\n",
        "\n",
        "# from fastapi import FastAPI\n",
        "# from pydantic import BaseModel\n",
        "# import uvicorn\n",
        "\n",
        "# class LocationInput(BaseModel):\n",
        "#     Area: str\n",
        "\n",
        "# class PredictResponse(BaseModel):\n",
        "#     waterQuality: str\n",
        "#     source: str\n",
        "#     drinkable: str\n",
        "#     swimmable: str\n",
        "\n",
        "# app = FastAPI()\n",
        "\n",
        "# @app.post(\"/get_water_quality\", response_model=PredictResponse)\n",
        "# def predict(input: LocationInput):\n",
        "#     '''\n",
        "#     1. Extract input\n",
        "#     2. Preprocess input\n",
        "#     3. Predict\n",
        "#     4. Return JSON object\n",
        "#     '''\n",
        "#     # Perform your prediction logic here\n",
        "#     # ...\n",
        "\n",
        "#     # Return the predicted response\n",
        "#     response = PredictResponse(\n",
        "#         waterQuality=\"good\",\n",
        "#         source=\"example\",\n",
        "#         drinkable=\"yes\",\n",
        "#         swimmable=\"yes\"\n",
        "#     )\n",
        "#     return response\n",
        "\n",
        "# async def main():\n",
        "#     uvicorn.run(app, host='127.0.0.2', port=8000)\n",
        "\n",
        "# if __name__ == \"__main__\":\n",
        "#     import asyncio\n",
        "#     loop = asyncio.get_event_loop()\n",
        "#     loop.run_until_complete(main())"
      ]
    },
    {
      "cell_type": "code",
      "execution_count": 136,
      "metadata": {},
      "outputs": [],
      "source": [
        "# from fastapi import FastAPI\n",
        "# from pydantic import BaseModel\n",
        "\n",
        "\n",
        "# class Item(BaseModel):\n",
        "#     name: str\n",
        "#     description: str | None = None\n",
        "#     price: float\n",
        "#     tax: float | None = None\n",
        "\n",
        "\n",
        "# app = FastAPI()\n",
        "\n",
        "\n",
        "# @app.post(\"/items/\")\n",
        "# async def create_item(item: Item):\n",
        "#     return item"
      ]
    },
    {
      "cell_type": "code",
      "execution_count": 158,
      "metadata": {},
      "outputs": [
        {
          "ename": "RuntimeError",
          "evalue": "asyncio.run() cannot be called from a running event loop",
          "output_type": "error",
          "traceback": [
            "\u001b[1;31m---------------------------------------------------------------------------\u001b[0m",
            "\u001b[1;31mRuntimeError\u001b[0m                              Traceback (most recent call last)",
            "\u001b[1;32mc:\\Users\\Hazem\\Desktop\\New folder (4)\\Untitled18.ipynb Cell 56\u001b[0m line \u001b[0;36m<cell line: 53>\u001b[1;34m()\u001b[0m\n\u001b[0;32m     <a href='vscode-notebook-cell:/c%3A/Users/Hazem/Desktop/New%20folder%20%284%29/Untitled18.ipynb#X54sZmlsZQ%3D%3D?line=49'>50</a>\u001b[0m \u001b[39mdef\u001b[39;00m \u001b[39mmain\u001b[39m():\n\u001b[0;32m     <a href='vscode-notebook-cell:/c%3A/Users/Hazem/Desktop/New%20folder%20%284%29/Untitled18.ipynb#X54sZmlsZQ%3D%3D?line=50'>51</a>\u001b[0m     uvicorn\u001b[39m.\u001b[39mrun(app, host\u001b[39m=\u001b[39m\u001b[39m'\u001b[39m\u001b[39m127.0.0.2\u001b[39m\u001b[39m'\u001b[39m, port\u001b[39m=\u001b[39m\u001b[39m8000\u001b[39m)\n\u001b[1;32m---> <a href='vscode-notebook-cell:/c%3A/Users/Hazem/Desktop/New%20folder%20%284%29/Untitled18.ipynb#X54sZmlsZQ%3D%3D?line=52'>53</a>\u001b[0m \u001b[39mawait\u001b[39;00m main()\n",
            "\u001b[1;32mc:\\Users\\Hazem\\Desktop\\New folder (4)\\Untitled18.ipynb Cell 56\u001b[0m line \u001b[0;36mmain\u001b[1;34m()\u001b[0m\n\u001b[0;32m     <a href='vscode-notebook-cell:/c%3A/Users/Hazem/Desktop/New%20folder%20%284%29/Untitled18.ipynb#X54sZmlsZQ%3D%3D?line=49'>50</a>\u001b[0m \u001b[39mdef\u001b[39;00m \u001b[39mmain\u001b[39m():\n\u001b[1;32m---> <a href='vscode-notebook-cell:/c%3A/Users/Hazem/Desktop/New%20folder%20%284%29/Untitled18.ipynb#X54sZmlsZQ%3D%3D?line=50'>51</a>\u001b[0m     uvicorn\u001b[39m.\u001b[39mrun(app, host\u001b[39m=\u001b[39m\u001b[39m'\u001b[39m\u001b[39m127.0.0.2\u001b[39m\u001b[39m'\u001b[39m, port\u001b[39m=\u001b[39m\u001b[39m8000\u001b[39m)\n",
            "File \u001b[1;32mc:\\Users\\Hazem\\AppData\\Local\\Programs\\Python\\Python39\\lib\\site-packages\\uvicorn\\main.py:587\u001b[0m, in \u001b[0;36mrun\u001b[1;34m(app, host, port, uds, fd, loop, http, ws, ws_max_size, ws_max_queue, ws_ping_interval, ws_ping_timeout, ws_per_message_deflate, lifespan, interface, reload, reload_dirs, reload_includes, reload_excludes, reload_delay, workers, env_file, log_config, log_level, access_log, proxy_headers, server_header, date_header, forwarded_allow_ips, root_path, limit_concurrency, backlog, limit_max_requests, timeout_keep_alive, timeout_graceful_shutdown, ssl_keyfile, ssl_certfile, ssl_keyfile_password, ssl_version, ssl_cert_reqs, ssl_ca_certs, ssl_ciphers, headers, use_colors, app_dir, factory, h11_max_incomplete_event_size)\u001b[0m\n\u001b[0;32m    585\u001b[0m     Multiprocess(config, target\u001b[39m=\u001b[39mserver\u001b[39m.\u001b[39mrun, sockets\u001b[39m=\u001b[39m[sock])\u001b[39m.\u001b[39mrun()\n\u001b[0;32m    586\u001b[0m \u001b[39melse\u001b[39;00m:\n\u001b[1;32m--> 587\u001b[0m     server\u001b[39m.\u001b[39;49mrun()\n\u001b[0;32m    588\u001b[0m \u001b[39mif\u001b[39;00m config\u001b[39m.\u001b[39muds \u001b[39mand\u001b[39;00m os\u001b[39m.\u001b[39mpath\u001b[39m.\u001b[39mexists(config\u001b[39m.\u001b[39muds):\n\u001b[0;32m    589\u001b[0m     os\u001b[39m.\u001b[39mremove(config\u001b[39m.\u001b[39muds)  \u001b[39m# pragma: py-win32\u001b[39;00m\n",
            "File \u001b[1;32mc:\\Users\\Hazem\\AppData\\Local\\Programs\\Python\\Python39\\lib\\site-packages\\uvicorn\\server.py:61\u001b[0m, in \u001b[0;36mServer.run\u001b[1;34m(self, sockets)\u001b[0m\n\u001b[0;32m     59\u001b[0m \u001b[39mdef\u001b[39;00m \u001b[39mrun\u001b[39m(\u001b[39mself\u001b[39m, sockets: Optional[List[socket\u001b[39m.\u001b[39msocket]] \u001b[39m=\u001b[39m \u001b[39mNone\u001b[39;00m) \u001b[39m-\u001b[39m\u001b[39m>\u001b[39m \u001b[39mNone\u001b[39;00m:\n\u001b[0;32m     60\u001b[0m     \u001b[39mself\u001b[39m\u001b[39m.\u001b[39mconfig\u001b[39m.\u001b[39msetup_event_loop()\n\u001b[1;32m---> 61\u001b[0m     \u001b[39mreturn\u001b[39;00m asyncio\u001b[39m.\u001b[39;49mrun(\u001b[39mself\u001b[39;49m\u001b[39m.\u001b[39;49mserve(sockets\u001b[39m=\u001b[39;49msockets))\n",
            "File \u001b[1;32mc:\\Users\\Hazem\\AppData\\Local\\Programs\\Python\\Python39\\lib\\asyncio\\runners.py:33\u001b[0m, in \u001b[0;36mrun\u001b[1;34m(main, debug)\u001b[0m\n\u001b[0;32m      9\u001b[0m \u001b[39m\"\"\"Execute the coroutine and return the result.\u001b[39;00m\n\u001b[0;32m     10\u001b[0m \n\u001b[0;32m     11\u001b[0m \u001b[39mThis function runs the passed coroutine, taking care of\u001b[39;00m\n\u001b[1;32m   (...)\u001b[0m\n\u001b[0;32m     30\u001b[0m \u001b[39m    asyncio.run(main())\u001b[39;00m\n\u001b[0;32m     31\u001b[0m \u001b[39m\"\"\"\u001b[39;00m\n\u001b[0;32m     32\u001b[0m \u001b[39mif\u001b[39;00m events\u001b[39m.\u001b[39m_get_running_loop() \u001b[39mis\u001b[39;00m \u001b[39mnot\u001b[39;00m \u001b[39mNone\u001b[39;00m:\n\u001b[1;32m---> 33\u001b[0m     \u001b[39mraise\u001b[39;00m \u001b[39mRuntimeError\u001b[39;00m(\n\u001b[0;32m     34\u001b[0m         \u001b[39m\"\u001b[39m\u001b[39masyncio.run() cannot be called from a running event loop\u001b[39m\u001b[39m\"\u001b[39m)\n\u001b[0;32m     36\u001b[0m \u001b[39mif\u001b[39;00m \u001b[39mnot\u001b[39;00m coroutines\u001b[39m.\u001b[39miscoroutine(main):\n\u001b[0;32m     37\u001b[0m     \u001b[39mraise\u001b[39;00m \u001b[39mValueError\u001b[39;00m(\u001b[39m\"\u001b[39m\u001b[39ma coroutine was expected, got \u001b[39m\u001b[39m{!r}\u001b[39;00m\u001b[39m\"\u001b[39m\u001b[39m.\u001b[39mformat(main))\n",
            "\u001b[1;31mRuntimeError\u001b[0m: asyncio.run() cannot be called from a running event loop"
          ]
        }
      ],
      "source": [
        "from fastapi import FastAPI\n",
        "from pydantic import BaseModel\n",
        "\n",
        "\n",
        "from uvicorn import Config, Server\n",
        "import uvicorn\n",
        "# Define the input model\n",
        "class LocationInput(BaseModel):\n",
        "    Area: str\n",
        "\n",
        "# Define the response model\n",
        "class PredictResponse(BaseModel):\n",
        "    IsDrinkable_status: str\n",
        "    IsSwimmable_status: str\n",
        "    WaterQualityStatus: str\n",
        "    SiteType: str\n",
        "\n",
        "# Load the trained model\n",
        "model=load_model(\"dodo.sav\")\n",
        "\n",
        "# Create the FastAPI app\n",
        "app = FastAPI()\n",
        "\n",
        "@app.post(\"/get_water_info\", response_model=PredictResponse)\n",
        "def predict(input: LocationInput):\n",
        "    # Extract input\n",
        "    area = input.Area\n",
        "\n",
        "    # Preprocess input if necessary\n",
        "  \n",
        "    # Predict using the trained model\n",
        "  \n",
        "    # Make sure to pass the appropriate features to the model's predict method\n",
        "    predicted_values = model.predict(area)\n",
        "\n",
        "    # Postprocess the predicted values if necessary\n",
        "    # ...\n",
        "\n",
        "    # Create the response object\n",
        "    response = PredictResponse(\n",
        "        IsDrinkable_status=predicted_values[0],\n",
        "        IsSwimmable_status=predicted_values[1],\n",
        "        WaterQualityStatus=predicted_values[2:6],\n",
        "        SiteType=predicted_values[6]\n",
        "    )\n",
        "    print(response)\n",
        "    # Return the response as JSON\n",
        "    return response\n",
        "\n",
        "def main():\n",
        "    uvicorn.run(app, host='127.0.0.2', port=8000)\n",
        "    \n",
        "\n",
        "await main()"
      ]
    },
    {
      "cell_type": "code",
      "execution_count": null,
      "metadata": {},
      "outputs": [],
      "source": []
    },
    {
      "cell_type": "code",
      "execution_count": 154,
      "metadata": {},
      "outputs": [
        {
          "ename": "RuntimeError",
          "evalue": "asyncio.run() cannot be called from a running event loop",
          "output_type": "error",
          "traceback": [
            "\u001b[1;31m---------------------------------------------------------------------------\u001b[0m",
            "\u001b[1;31mRuntimeError\u001b[0m                              Traceback (most recent call last)",
            "\u001b[1;32mc:\\Users\\Hazem\\Desktop\\New folder (4)\\Untitled18.ipynb Cell 57\u001b[0m line \u001b[0;36m<cell line: 50>\u001b[1;34m()\u001b[0m\n\u001b[0;32m     <a href='vscode-notebook-cell:/c%3A/Users/Hazem/Desktop/New%20folder%20%284%29/Untitled18.ipynb#Y123sZmlsZQ%3D%3D?line=46'>47</a>\u001b[0m \u001b[39mdef\u001b[39;00m \u001b[39mmain\u001b[39m():\n\u001b[0;32m     <a href='vscode-notebook-cell:/c%3A/Users/Hazem/Desktop/New%20folder%20%284%29/Untitled18.ipynb#Y123sZmlsZQ%3D%3D?line=47'>48</a>\u001b[0m     uvicorn\u001b[39m.\u001b[39mrun(app, host\u001b[39m=\u001b[39m\u001b[39m'\u001b[39m\u001b[39m127.0.0.2\u001b[39m\u001b[39m'\u001b[39m, port\u001b[39m=\u001b[39m\u001b[39m8000\u001b[39m)\n\u001b[1;32m---> <a href='vscode-notebook-cell:/c%3A/Users/Hazem/Desktop/New%20folder%20%284%29/Untitled18.ipynb#Y123sZmlsZQ%3D%3D?line=49'>50</a>\u001b[0m \u001b[39mawait\u001b[39;00m main()\n",
            "\u001b[1;32mc:\\Users\\Hazem\\Desktop\\New folder (4)\\Untitled18.ipynb Cell 57\u001b[0m line \u001b[0;36mmain\u001b[1;34m()\u001b[0m\n\u001b[0;32m     <a href='vscode-notebook-cell:/c%3A/Users/Hazem/Desktop/New%20folder%20%284%29/Untitled18.ipynb#Y123sZmlsZQ%3D%3D?line=46'>47</a>\u001b[0m \u001b[39mdef\u001b[39;00m \u001b[39mmain\u001b[39m():\n\u001b[1;32m---> <a href='vscode-notebook-cell:/c%3A/Users/Hazem/Desktop/New%20folder%20%284%29/Untitled18.ipynb#Y123sZmlsZQ%3D%3D?line=47'>48</a>\u001b[0m     uvicorn\u001b[39m.\u001b[39mrun(app, host\u001b[39m=\u001b[39m\u001b[39m'\u001b[39m\u001b[39m127.0.0.2\u001b[39m\u001b[39m'\u001b[39m, port\u001b[39m=\u001b[39m\u001b[39m8000\u001b[39m)\n",
            "File \u001b[1;32mc:\\Users\\Hazem\\AppData\\Local\\Programs\\Python\\Python39\\lib\\site-packages\\uvicorn\\main.py:587\u001b[0m, in \u001b[0;36mrun\u001b[1;34m(app, host, port, uds, fd, loop, http, ws, ws_max_size, ws_max_queue, ws_ping_interval, ws_ping_timeout, ws_per_message_deflate, lifespan, interface, reload, reload_dirs, reload_includes, reload_excludes, reload_delay, workers, env_file, log_config, log_level, access_log, proxy_headers, server_header, date_header, forwarded_allow_ips, root_path, limit_concurrency, backlog, limit_max_requests, timeout_keep_alive, timeout_graceful_shutdown, ssl_keyfile, ssl_certfile, ssl_keyfile_password, ssl_version, ssl_cert_reqs, ssl_ca_certs, ssl_ciphers, headers, use_colors, app_dir, factory, h11_max_incomplete_event_size)\u001b[0m\n\u001b[0;32m    585\u001b[0m     Multiprocess(config, target\u001b[39m=\u001b[39mserver\u001b[39m.\u001b[39mrun, sockets\u001b[39m=\u001b[39m[sock])\u001b[39m.\u001b[39mrun()\n\u001b[0;32m    586\u001b[0m \u001b[39melse\u001b[39;00m:\n\u001b[1;32m--> 587\u001b[0m     server\u001b[39m.\u001b[39;49mrun()\n\u001b[0;32m    588\u001b[0m \u001b[39mif\u001b[39;00m config\u001b[39m.\u001b[39muds \u001b[39mand\u001b[39;00m os\u001b[39m.\u001b[39mpath\u001b[39m.\u001b[39mexists(config\u001b[39m.\u001b[39muds):\n\u001b[0;32m    589\u001b[0m     os\u001b[39m.\u001b[39mremove(config\u001b[39m.\u001b[39muds)  \u001b[39m# pragma: py-win32\u001b[39;00m\n",
            "File \u001b[1;32mc:\\Users\\Hazem\\AppData\\Local\\Programs\\Python\\Python39\\lib\\site-packages\\uvicorn\\server.py:61\u001b[0m, in \u001b[0;36mServer.run\u001b[1;34m(self, sockets)\u001b[0m\n\u001b[0;32m     59\u001b[0m \u001b[39mdef\u001b[39;00m \u001b[39mrun\u001b[39m(\u001b[39mself\u001b[39m, sockets: Optional[List[socket\u001b[39m.\u001b[39msocket]] \u001b[39m=\u001b[39m \u001b[39mNone\u001b[39;00m) \u001b[39m-\u001b[39m\u001b[39m>\u001b[39m \u001b[39mNone\u001b[39;00m:\n\u001b[0;32m     60\u001b[0m     \u001b[39mself\u001b[39m\u001b[39m.\u001b[39mconfig\u001b[39m.\u001b[39msetup_event_loop()\n\u001b[1;32m---> 61\u001b[0m     \u001b[39mreturn\u001b[39;00m asyncio\u001b[39m.\u001b[39;49mrun(\u001b[39mself\u001b[39;49m\u001b[39m.\u001b[39;49mserve(sockets\u001b[39m=\u001b[39;49msockets))\n",
            "File \u001b[1;32mc:\\Users\\Hazem\\AppData\\Local\\Programs\\Python\\Python39\\lib\\asyncio\\runners.py:33\u001b[0m, in \u001b[0;36mrun\u001b[1;34m(main, debug)\u001b[0m\n\u001b[0;32m      9\u001b[0m \u001b[39m\"\"\"Execute the coroutine and return the result.\u001b[39;00m\n\u001b[0;32m     10\u001b[0m \n\u001b[0;32m     11\u001b[0m \u001b[39mThis function runs the passed coroutine, taking care of\u001b[39;00m\n\u001b[1;32m   (...)\u001b[0m\n\u001b[0;32m     30\u001b[0m \u001b[39m    asyncio.run(main())\u001b[39;00m\n\u001b[0;32m     31\u001b[0m \u001b[39m\"\"\"\u001b[39;00m\n\u001b[0;32m     32\u001b[0m \u001b[39mif\u001b[39;00m events\u001b[39m.\u001b[39m_get_running_loop() \u001b[39mis\u001b[39;00m \u001b[39mnot\u001b[39;00m \u001b[39mNone\u001b[39;00m:\n\u001b[1;32m---> 33\u001b[0m     \u001b[39mraise\u001b[39;00m \u001b[39mRuntimeError\u001b[39;00m(\n\u001b[0;32m     34\u001b[0m         \u001b[39m\"\u001b[39m\u001b[39masyncio.run() cannot be called from a running event loop\u001b[39m\u001b[39m\"\u001b[39m)\n\u001b[0;32m     36\u001b[0m \u001b[39mif\u001b[39;00m \u001b[39mnot\u001b[39;00m coroutines\u001b[39m.\u001b[39miscoroutine(main):\n\u001b[0;32m     37\u001b[0m     \u001b[39mraise\u001b[39;00m \u001b[39mValueError\u001b[39;00m(\u001b[39m\"\u001b[39m\u001b[39ma coroutine was expected, got \u001b[39m\u001b[39m{!r}\u001b[39;00m\u001b[39m\"\u001b[39m\u001b[39m.\u001b[39mformat(main))\n",
            "\u001b[1;31mRuntimeError\u001b[0m: asyncio.run() cannot be called from a running event loop"
          ]
        }
      ],
      "source": [
        "\"\"\"from fastapi import FastAPI\n",
        "from uvicorn import Config, Server\n",
        "import uvicorn\n",
        "\n",
        "\n",
        "\"if error message\"\n",
        "\"asyncio.run() cannot be called from a running event loop\"\n",
        "# import nest_asyncio\n",
        "# nest_asyncio.apply()\n",
        "\n",
        "\n",
        "app = FastAPI()\n",
        "\n",
        "@app.get(\"/\")\n",
        "async def root():\n",
        "    return {\"message\": \"mohseeeen\"}\n",
        "\n",
        "# config = Config(app)\n",
        "# server = Server(config=config)\n",
        "#await server.serve()\n",
        "\n",
        "# import asyncio\n",
        "# loop = asyncio.get_event_loop()\n",
        "# loop.create_task(server.serve())\n",
        "from pydantic import BaseModel\n",
        "\n",
        "class LocationInput(BaseModel):\n",
        "    lat: float\n",
        "    lon: float\n",
        "\n",
        "class PredictResponse(BaseModel):\n",
        "    waterQuality: str\n",
        "\n",
        "@app.post(\"/get_water_quality\", response_model=PredictResponse)\n",
        "def predict(input:LocationInput):\n",
        "    '''\n",
        "    1. Extract input\n",
        "    2. preprocess input\n",
        "    3. predict\n",
        "    4. return json object\n",
        "    '''\n",
        "    lat = input.lat\n",
        "    lon = input.lon\n",
        "    predict = \"good\"\n",
        "    return {\"waterQuality\": predict}\n",
        "\n",
        "def main():\n",
        "    uvicorn.run(app, host='127.0.0.2', port=8000)\n",
        "\n",
        "await main()\"\"\""
      ]
    },
    {
      "cell_type": "code",
      "execution_count": 137,
      "metadata": {},
      "outputs": [],
      "source": [
        "#predict(30)"
      ]
    },
    {
      "cell_type": "code",
      "execution_count": null,
      "metadata": {},
      "outputs": [],
      "source": []
    }
  ],
  "metadata": {
    "accelerator": "GPU",
    "colab": {
      "gpuType": "T4",
      "provenance": []
    },
    "kernelspec": {
      "display_name": "Python 3",
      "name": "python3"
    },
    "language_info": {
      "codemirror_mode": {
        "name": "ipython",
        "version": 3
      },
      "file_extension": ".py",
      "mimetype": "text/x-python",
      "name": "python",
      "nbconvert_exporter": "python",
      "pygments_lexer": "ipython3",
      "version": "3.9.11"
    }
  },
  "nbformat": 4,
  "nbformat_minor": 0
}
